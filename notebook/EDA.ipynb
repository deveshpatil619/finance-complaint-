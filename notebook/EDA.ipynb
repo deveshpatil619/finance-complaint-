{
 "cells": [
  {
   "cell_type": "code",
   "execution_count": 2,
   "id": "3be0bb80",
   "metadata": {},
   "outputs": [],
   "source": [
    "data_file_path=\"/config/workspace/finance_artifact/data_ingestion/feature_store/finance_complaint\"\n"
   ]
  },
  {
   "cell_type": "code",
   "execution_count": 3,
   "id": "2ddb712b",
   "metadata": {},
   "outputs": [
    {
     "name": "stdout",
     "output_type": "stream",
     "text": [
      "/config/workspace\n"
     ]
    }
   ],
   "source": [
    "cd ..\n"
   ]
  },
  {
   "cell_type": "code",
   "execution_count": 4,
   "id": "1f1287ee",
   "metadata": {},
   "outputs": [
    {
     "name": "stdout",
     "output_type": "stream",
     "text": [
      ":: loading settings :: url = jar:file:/usr/local/spark-3.2.1-bin-hadoop3.2/jars/ivy-2.5.0.jar!/org/apache/ivy/core/settings/ivysettings.xml\n"
     ]
    },
    {
     "name": "stderr",
     "output_type": "stream",
     "text": [
      "Ivy Default Cache set to: /config/.ivy2/cache\n",
      "The jars for the packages stored in: /config/.ivy2/jars\n",
      "com.amazonaws#aws-java-sdk added as a dependency\n",
      "org.apache.hadoop#hadoop-aws added as a dependency\n",
      ":: resolving dependencies :: org.apache.spark#spark-submit-parent-ceb9df33-1323-4814-9354-7ff3b24648aa;1.0\n",
      "\tconfs: [default]\n",
      "\tfound com.amazonaws#aws-java-sdk;1.7.4 in central\n",
      "\tfound commons-logging#commons-logging;1.1.1 in central\n",
      "\tfound org.apache.httpcomponents#httpclient;4.2 in central\n",
      "\tfound org.apache.httpcomponents#httpcore;4.2 in central\n",
      "\tfound commons-codec#commons-codec;1.3 in central\n",
      "\tfound com.fasterxml.jackson.core#jackson-core;2.1.1 in central\n",
      "\tfound com.fasterxml.jackson.core#jackson-databind;2.1.1 in central\n",
      "\tfound com.fasterxml.jackson.core#jackson-annotations;2.1.1 in central\n",
      "\tfound joda-time#joda-time;2.12.2 in central\n",
      "\t[2.12.2] joda-time#joda-time;[2.2,)\n",
      "\tfound org.apache.hadoop#hadoop-aws;2.7.3 in central\n",
      "\tfound org.apache.hadoop#hadoop-common;2.7.3 in central\n",
      "\tfound org.apache.hadoop#hadoop-annotations;2.7.3 in central\n",
      "\tfound com.google.guava#guava;11.0.2 in central\n",
      "\tfound com.google.code.findbugs#jsr305;3.0.0 in central\n",
      "\tfound commons-cli#commons-cli;1.2 in central\n",
      "\tfound org.apache.commons#commons-math3;3.1.1 in central\n",
      "\tfound xmlenc#xmlenc;0.52 in central\n",
      "\tfound commons-httpclient#commons-httpclient;3.1 in central\n",
      "\tfound commons-logging#commons-logging;1.1.3 in central\n",
      "\tfound commons-codec#commons-codec;1.4 in central\n",
      "\tfound commons-io#commons-io;2.4 in central\n",
      "\tfound commons-net#commons-net;3.1 in central\n",
      "\tfound commons-collections#commons-collections;3.2.2 in central\n",
      "\tfound javax.servlet#servlet-api;2.5 in central\n",
      "\tfound org.mortbay.jetty#jetty;6.1.26 in central\n",
      "\tfound org.mortbay.jetty#jetty-util;6.1.26 in central\n",
      "\tfound com.sun.jersey#jersey-core;1.9 in central\n",
      "\tfound com.sun.jersey#jersey-json;1.9 in central\n",
      "\tfound org.codehaus.jettison#jettison;1.1 in central\n",
      "\tfound com.sun.xml.bind#jaxb-impl;2.2.3-1 in central\n",
      "\tfound javax.xml.bind#jaxb-api;2.2.2 in central\n",
      "\tfound javax.xml.stream#stax-api;1.0-2 in central\n",
      "\tfound javax.activation#activation;1.1 in central\n",
      "\tfound org.codehaus.jackson#jackson-core-asl;1.9.13 in central\n",
      "\tfound org.codehaus.jackson#jackson-mapper-asl;1.9.13 in central\n",
      "\tfound org.codehaus.jackson#jackson-jaxrs;1.9.13 in central\n",
      "\tfound org.codehaus.jackson#jackson-xc;1.9.13 in central\n",
      "\tfound com.sun.jersey#jersey-server;1.9 in central\n",
      "\tfound asm#asm;3.2 in central\n",
      "\tfound log4j#log4j;1.2.17 in central\n",
      "\tfound net.java.dev.jets3t#jets3t;0.9.0 in central\n",
      "\tfound org.apache.httpcomponents#httpclient;4.2.5 in central\n",
      "\tfound org.apache.httpcomponents#httpcore;4.2.5 in central\n",
      "\tfound com.jamesmurty.utils#java-xmlbuilder;0.4 in central\n",
      "\tfound commons-lang#commons-lang;2.6 in central\n",
      "\tfound commons-configuration#commons-configuration;1.6 in central\n",
      "\tfound commons-digester#commons-digester;1.8 in central\n",
      "\tfound commons-beanutils#commons-beanutils;1.7.0 in central\n",
      "\tfound commons-beanutils#commons-beanutils-core;1.8.0 in central\n",
      "\tfound org.slf4j#slf4j-api;1.7.10 in central\n",
      "\tfound org.apache.avro#avro;1.7.4 in central\n",
      "\tfound com.thoughtworks.paranamer#paranamer;2.3 in central\n",
      "\tfound org.xerial.snappy#snappy-java;1.0.4.1 in central\n",
      "\tfound org.apache.commons#commons-compress;1.4.1 in central\n",
      "\tfound org.tukaani#xz;1.0 in central\n",
      "\tfound com.google.protobuf#protobuf-java;2.5.0 in central\n",
      "\tfound com.google.code.gson#gson;2.2.4 in central\n",
      "\tfound org.apache.hadoop#hadoop-auth;2.7.3 in central\n",
      "\tfound org.apache.directory.server#apacheds-kerberos-codec;2.0.0-M15 in central\n",
      "\tfound org.apache.directory.server#apacheds-i18n;2.0.0-M15 in central\n",
      "\tfound org.apache.directory.api#api-asn1-api;1.0.0-M20 in central\n",
      "\tfound org.apache.directory.api#api-util;1.0.0-M20 in central\n",
      "\tfound org.apache.zookeeper#zookeeper;3.4.6 in central\n",
      "\tfound org.slf4j#slf4j-log4j12;1.7.10 in central\n",
      "\tfound io.netty#netty;3.6.2.Final in central\n",
      "\tfound org.apache.curator#curator-framework;2.7.1 in central\n",
      "\tfound org.apache.curator#curator-client;2.7.1 in central\n",
      "\tfound com.jcraft#jsch;0.1.42 in central\n",
      "\tfound org.apache.curator#curator-recipes;2.7.1 in central\n",
      "\tfound org.apache.htrace#htrace-core;3.1.0-incubating in central\n",
      "\tfound javax.servlet.jsp#jsp-api;2.1 in central\n",
      "\tfound jline#jline;0.9.94 in central\n",
      "\tfound junit#junit;4.11 in central\n",
      "\tfound org.hamcrest#hamcrest-core;1.3 in central\n",
      "\tfound com.fasterxml.jackson.core#jackson-databind;2.2.3 in central\n",
      "\tfound com.fasterxml.jackson.core#jackson-annotations;2.2.3 in central\n",
      "\tfound com.fasterxml.jackson.core#jackson-core;2.2.3 in central\n",
      "downloading https://repo1.maven.org/maven2/com/amazonaws/aws-java-sdk/1.7.4/aws-java-sdk-1.7.4.jar ...\n",
      "\t[SUCCESSFUL ] com.amazonaws#aws-java-sdk;1.7.4!aws-java-sdk.jar (1915ms)\n",
      "downloading https://repo1.maven.org/maven2/org/apache/hadoop/hadoop-aws/2.7.3/hadoop-aws-2.7.3.jar ...\n",
      "\t[SUCCESSFUL ] org.apache.hadoop#hadoop-aws;2.7.3!hadoop-aws.jar (174ms)\n",
      "downloading https://repo1.maven.org/maven2/joda-time/joda-time/2.12.2/joda-time-2.12.2.jar ...\n",
      "\t[SUCCESSFUL ] joda-time#joda-time;2.12.2!joda-time.jar (188ms)\n",
      "downloading https://repo1.maven.org/maven2/org/apache/hadoop/hadoop-common/2.7.3/hadoop-common-2.7.3.jar ...\n",
      "\t[SUCCESSFUL ] org.apache.hadoop#hadoop-common;2.7.3!hadoop-common.jar (519ms)\n",
      "downloading https://repo1.maven.org/maven2/com/fasterxml/jackson/core/jackson-databind/2.2.3/jackson-databind-2.2.3.jar ...\n",
      "\t[SUCCESSFUL ] com.fasterxml.jackson.core#jackson-databind;2.2.3!jackson-databind.jar (193ms)\n",
      "downloading https://repo1.maven.org/maven2/com/fasterxml/jackson/core/jackson-annotations/2.2.3/jackson-annotations-2.2.3.jar ...\n",
      "\t[SUCCESSFUL ] com.fasterxml.jackson.core#jackson-annotations;2.2.3!jackson-annotations.jar (172ms)\n",
      "downloading https://repo1.maven.org/maven2/org/apache/hadoop/hadoop-annotations/2.7.3/hadoop-annotations-2.7.3.jar ...\n",
      "\t[SUCCESSFUL ] org.apache.hadoop#hadoop-annotations;2.7.3!hadoop-annotations.jar (173ms)\n",
      "downloading https://repo1.maven.org/maven2/com/google/guava/guava/11.0.2/guava-11.0.2.jar ...\n",
      "\t[SUCCESSFUL ] com.google.guava#guava;11.0.2!guava.jar (354ms)\n",
      "downloading https://repo1.maven.org/maven2/commons-cli/commons-cli/1.2/commons-cli-1.2.jar ...\n",
      "\t[SUCCESSFUL ] commons-cli#commons-cli;1.2!commons-cli.jar (172ms)\n",
      "downloading https://repo1.maven.org/maven2/org/apache/commons/commons-math3/3.1.1/commons-math3-3.1.1.jar ...\n",
      "\t[SUCCESSFUL ] org.apache.commons#commons-math3;3.1.1!commons-math3.jar (213ms)\n",
      "downloading https://repo1.maven.org/maven2/xmlenc/xmlenc/0.52/xmlenc-0.52.jar ...\n",
      "\t[SUCCESSFUL ] xmlenc#xmlenc;0.52!xmlenc.jar (171ms)\n",
      "downloading https://repo1.maven.org/maven2/commons-httpclient/commons-httpclient/3.1/commons-httpclient-3.1.jar ...\n",
      "\t[SUCCESSFUL ] commons-httpclient#commons-httpclient;3.1!commons-httpclient.jar (179ms)\n",
      "downloading https://repo1.maven.org/maven2/commons-codec/commons-codec/1.4/commons-codec-1.4.jar ...\n",
      "\t[SUCCESSFUL ] commons-codec#commons-codec;1.4!commons-codec.jar (173ms)\n",
      "downloading https://repo1.maven.org/maven2/commons-io/commons-io/2.4/commons-io-2.4.jar ...\n",
      "\t[SUCCESSFUL ] commons-io#commons-io;2.4!commons-io.jar (176ms)\n",
      "downloading https://repo1.maven.org/maven2/commons-net/commons-net/3.1/commons-net-3.1.jar ...\n",
      "\t[SUCCESSFUL ] commons-net#commons-net;3.1!commons-net.jar (178ms)\n",
      "downloading https://repo1.maven.org/maven2/commons-collections/commons-collections/3.2.2/commons-collections-3.2.2.jar ...\n",
      "\t[SUCCESSFUL ] commons-collections#commons-collections;3.2.2!commons-collections.jar (191ms)\n",
      "downloading https://repo1.maven.org/maven2/javax/servlet/servlet-api/2.5/servlet-api-2.5.jar ...\n",
      "\t[SUCCESSFUL ] javax.servlet#servlet-api;2.5!servlet-api.jar (174ms)\n",
      "downloading https://repo1.maven.org/maven2/org/mortbay/jetty/jetty/6.1.26/jetty-6.1.26.jar ...\n",
      "\t[SUCCESSFUL ] org.mortbay.jetty#jetty;6.1.26!jetty.jar (186ms)\n",
      "downloading https://repo1.maven.org/maven2/org/mortbay/jetty/jetty-util/6.1.26/jetty-util-6.1.26.jar ...\n",
      "\t[SUCCESSFUL ] org.mortbay.jetty#jetty-util;6.1.26!jetty-util.jar (176ms)\n",
      "downloading https://repo1.maven.org/maven2/com/sun/jersey/jersey-core/1.9/jersey-core-1.9.jar ...\n",
      "\t[SUCCESSFUL ] com.sun.jersey#jersey-core;1.9!jersey-core.jar(bundle) (183ms)\n",
      "downloading https://repo1.maven.org/maven2/com/sun/jersey/jersey-json/1.9/jersey-json-1.9.jar ...\n",
      "\t[SUCCESSFUL ] com.sun.jersey#jersey-json;1.9!jersey-json.jar(bundle) (176ms)\n",
      "downloading https://repo1.maven.org/maven2/com/sun/jersey/jersey-server/1.9/jersey-server-1.9.jar ...\n",
      "\t[SUCCESSFUL ] com.sun.jersey#jersey-server;1.9!jersey-server.jar(bundle) (190ms)\n",
      "downloading https://repo1.maven.org/maven2/commons-logging/commons-logging/1.1.3/commons-logging-1.1.3.jar ...\n",
      "\t[SUCCESSFUL ] commons-logging#commons-logging;1.1.3!commons-logging.jar (173ms)\n",
      "downloading https://repo1.maven.org/maven2/log4j/log4j/1.2.17/log4j-1.2.17.jar ...\n",
      "\t[SUCCESSFUL ] log4j#log4j;1.2.17!log4j.jar(bundle) (184ms)\n",
      "downloading https://repo1.maven.org/maven2/net/java/dev/jets3t/jets3t/0.9.0/jets3t-0.9.0.jar ...\n",
      "\t[SUCCESSFUL ] net.java.dev.jets3t#jets3t;0.9.0!jets3t.jar (184ms)\n",
      "downloading https://repo1.maven.org/maven2/commons-lang/commons-lang/2.6/commons-lang-2.6.jar ...\n",
      "\t[SUCCESSFUL ] commons-lang#commons-lang;2.6!commons-lang.jar (179ms)\n",
      "downloading https://repo1.maven.org/maven2/commons-configuration/commons-configuration/1.6/commons-configuration-1.6.jar ...\n",
      "\t[SUCCESSFUL ] commons-configuration#commons-configuration;1.6!commons-configuration.jar (179ms)\n",
      "downloading https://repo1.maven.org/maven2/org/slf4j/slf4j-api/1.7.10/slf4j-api-1.7.10.jar ...\n",
      "\t[SUCCESSFUL ] org.slf4j#slf4j-api;1.7.10!slf4j-api.jar (172ms)\n",
      "downloading https://repo1.maven.org/maven2/org/codehaus/jackson/jackson-core-asl/1.9.13/jackson-core-asl-1.9.13.jar ...\n",
      "\t[SUCCESSFUL ] org.codehaus.jackson#jackson-core-asl;1.9.13!jackson-core-asl.jar (178ms)\n",
      "downloading https://repo1.maven.org/maven2/org/codehaus/jackson/jackson-mapper-asl/1.9.13/jackson-mapper-asl-1.9.13.jar ...\n",
      "\t[SUCCESSFUL ] org.codehaus.jackson#jackson-mapper-asl;1.9.13!jackson-mapper-asl.jar (192ms)\n",
      "downloading https://repo1.maven.org/maven2/org/apache/avro/avro/1.7.4/avro-1.7.4.jar ...\n",
      "\t[SUCCESSFUL ] org.apache.avro#avro;1.7.4!avro.jar (181ms)\n",
      "downloading https://repo1.maven.org/maven2/com/google/protobuf/protobuf-java/2.5.0/protobuf-java-2.5.0.jar ...\n",
      "\t[SUCCESSFUL ] com.google.protobuf#protobuf-java;2.5.0!protobuf-java.jar(bundle) (185ms)\n",
      "downloading https://repo1.maven.org/maven2/com/google/code/gson/gson/2.2.4/gson-2.2.4.jar ...\n",
      "\t[SUCCESSFUL ] com.google.code.gson#gson;2.2.4!gson.jar (176ms)\n",
      "downloading https://repo1.maven.org/maven2/org/apache/hadoop/hadoop-auth/2.7.3/hadoop-auth-2.7.3.jar ...\n",
      "\t[SUCCESSFUL ] org.apache.hadoop#hadoop-auth;2.7.3!hadoop-auth.jar (173ms)\n",
      "downloading https://repo1.maven.org/maven2/com/jcraft/jsch/0.1.42/jsch-0.1.42.jar ...\n",
      "\t[SUCCESSFUL ] com.jcraft#jsch;0.1.42!jsch.jar (177ms)\n",
      "downloading https://repo1.maven.org/maven2/org/apache/curator/curator-client/2.7.1/curator-client-2.7.1.jar ...\n",
      "\t[SUCCESSFUL ] org.apache.curator#curator-client;2.7.1!curator-client.jar(bundle) (172ms)\n",
      "downloading https://repo1.maven.org/maven2/org/apache/curator/curator-recipes/2.7.1/curator-recipes-2.7.1.jar ...\n",
      "\t[SUCCESSFUL ] org.apache.curator#curator-recipes;2.7.1!curator-recipes.jar(bundle) (178ms)\n",
      "downloading https://repo1.maven.org/maven2/com/google/code/findbugs/jsr305/3.0.0/jsr305-3.0.0.jar ...\n",
      "\t[SUCCESSFUL ] com.google.code.findbugs#jsr305;3.0.0!jsr305.jar (172ms)\n",
      "downloading https://repo1.maven.org/maven2/org/apache/htrace/htrace-core/3.1.0-incubating/htrace-core-3.1.0-incubating.jar ...\n",
      "\t[SUCCESSFUL ] org.apache.htrace#htrace-core;3.1.0-incubating!htrace-core.jar (209ms)\n",
      "downloading https://repo1.maven.org/maven2/org/apache/zookeeper/zookeeper/3.4.6/zookeeper-3.4.6.jar ...\n",
      "\t[SUCCESSFUL ] org.apache.zookeeper#zookeeper;3.4.6!zookeeper.jar (192ms)\n",
      "downloading https://repo1.maven.org/maven2/org/apache/commons/commons-compress/1.4.1/commons-compress-1.4.1.jar ...\n",
      "\t[SUCCESSFUL ] org.apache.commons#commons-compress;1.4.1!commons-compress.jar (177ms)\n",
      "downloading https://repo1.maven.org/maven2/org/codehaus/jettison/jettison/1.1/jettison-1.1.jar ...\n",
      "\t[SUCCESSFUL ] org.codehaus.jettison#jettison;1.1!jettison.jar(bundle) (173ms)\n",
      "downloading https://repo1.maven.org/maven2/com/sun/xml/bind/jaxb-impl/2.2.3-1/jaxb-impl-2.2.3-1.jar ...\n",
      "\t[SUCCESSFUL ] com.sun.xml.bind#jaxb-impl;2.2.3-1!jaxb-impl.jar (194ms)\n",
      "downloading https://repo1.maven.org/maven2/org/codehaus/jackson/jackson-jaxrs/1.9.13/jackson-jaxrs-1.9.13.jar ...\n",
      "\t[SUCCESSFUL ] org.codehaus.jackson#jackson-jaxrs;1.9.13!jackson-jaxrs.jar (172ms)\n",
      "downloading https://repo1.maven.org/maven2/org/codehaus/jackson/jackson-xc/1.9.13/jackson-xc-1.9.13.jar ...\n",
      "\t[SUCCESSFUL ] org.codehaus.jackson#jackson-xc;1.9.13!jackson-xc.jar (172ms)\n",
      "downloading https://repo1.maven.org/maven2/javax/xml/bind/jaxb-api/2.2.2/jaxb-api-2.2.2.jar ...\n",
      "\t[SUCCESSFUL ] javax.xml.bind#jaxb-api;2.2.2!jaxb-api.jar (174ms)\n",
      "downloading https://repo1.maven.org/maven2/javax/xml/stream/stax-api/1.0-2/stax-api-1.0-2.jar ...\n",
      "\t[SUCCESSFUL ] javax.xml.stream#stax-api;1.0-2!stax-api.jar (172ms)\n",
      "downloading https://repo1.maven.org/maven2/javax/activation/activation/1.1/activation-1.1.jar ...\n",
      "\t[SUCCESSFUL ] javax.activation#activation;1.1!activation.jar (173ms)\n",
      "downloading https://repo1.maven.org/maven2/asm/asm/3.2/asm-3.2.jar ...\n",
      "\t[SUCCESSFUL ] asm#asm;3.2!asm.jar (172ms)\n",
      "downloading https://repo1.maven.org/maven2/org/apache/httpcomponents/httpclient/4.2.5/httpclient-4.2.5.jar ...\n",
      "\t[SUCCESSFUL ] org.apache.httpcomponents#httpclient;4.2.5!httpclient.jar (183ms)\n",
      "downloading https://repo1.maven.org/maven2/org/apache/httpcomponents/httpcore/4.2.5/httpcore-4.2.5.jar ...\n",
      "\t[SUCCESSFUL ] org.apache.httpcomponents#httpcore;4.2.5!httpcore.jar (176ms)\n",
      "downloading https://repo1.maven.org/maven2/com/jamesmurty/utils/java-xmlbuilder/0.4/java-xmlbuilder-0.4.jar ...\n",
      "\t[SUCCESSFUL ] com.jamesmurty.utils#java-xmlbuilder;0.4!java-xmlbuilder.jar (172ms)\n",
      "downloading https://repo1.maven.org/maven2/commons-digester/commons-digester/1.8/commons-digester-1.8.jar ...\n",
      "\t[SUCCESSFUL ] commons-digester#commons-digester;1.8!commons-digester.jar (175ms)\n",
      "downloading https://repo1.maven.org/maven2/commons-beanutils/commons-beanutils-core/1.8.0/commons-beanutils-core-1.8.0.jar ...\n",
      "\t[SUCCESSFUL ] commons-beanutils#commons-beanutils-core;1.8.0!commons-beanutils-core.jar (176ms)\n",
      "downloading https://repo1.maven.org/maven2/commons-beanutils/commons-beanutils/1.7.0/commons-beanutils-1.7.0.jar ...\n",
      "\t[SUCCESSFUL ] commons-beanutils#commons-beanutils;1.7.0!commons-beanutils.jar (176ms)\n",
      "downloading https://repo1.maven.org/maven2/com/thoughtworks/paranamer/paranamer/2.3/paranamer-2.3.jar ...\n",
      "\t[SUCCESSFUL ] com.thoughtworks.paranamer#paranamer;2.3!paranamer.jar (171ms)\n",
      "downloading https://repo1.maven.org/maven2/org/xerial/snappy/snappy-java/1.0.4.1/snappy-java-1.0.4.1.jar ...\n",
      "\t[SUCCESSFUL ] org.xerial.snappy#snappy-java;1.0.4.1!snappy-java.jar(bundle) (197ms)\n",
      "downloading https://repo1.maven.org/maven2/org/tukaani/xz/1.0/xz-1.0.jar ...\n",
      "\t[SUCCESSFUL ] org.tukaani#xz;1.0!xz.jar (173ms)\n",
      "downloading https://repo1.maven.org/maven2/org/apache/directory/server/apacheds-kerberos-codec/2.0.0-M15/apacheds-kerberos-codec-2.0.0-M15.jar ...\n",
      "\t[SUCCESSFUL ] org.apache.directory.server#apacheds-kerberos-codec;2.0.0-M15!apacheds-kerberos-codec.jar(bundle) (189ms)\n",
      "downloading https://repo1.maven.org/maven2/org/apache/curator/curator-framework/2.7.1/curator-framework-2.7.1.jar ...\n",
      "\t[SUCCESSFUL ] org.apache.curator#curator-framework;2.7.1!curator-framework.jar(bundle) (176ms)\n",
      "downloading https://repo1.maven.org/maven2/org/apache/directory/server/apacheds-i18n/2.0.0-M15/apacheds-i18n-2.0.0-M15.jar ...\n",
      "\t[SUCCESSFUL ] org.apache.directory.server#apacheds-i18n;2.0.0-M15!apacheds-i18n.jar(bundle) (172ms)\n",
      "downloading https://repo1.maven.org/maven2/org/apache/directory/api/api-asn1-api/1.0.0-M20/api-asn1-api-1.0.0-M20.jar ...\n",
      "\t[SUCCESSFUL ] org.apache.directory.api#api-asn1-api;1.0.0-M20!api-asn1-api.jar(bundle) (172ms)\n",
      "downloading https://repo1.maven.org/maven2/org/apache/directory/api/api-util/1.0.0-M20/api-util-1.0.0-M20.jar ...\n",
      "\t[SUCCESSFUL ] org.apache.directory.api#api-util;1.0.0-M20!api-util.jar(bundle) (173ms)\n",
      "downloading https://repo1.maven.org/maven2/org/slf4j/slf4j-log4j12/1.7.10/slf4j-log4j12-1.7.10.jar ...\n",
      "\t[SUCCESSFUL ] org.slf4j#slf4j-log4j12;1.7.10!slf4j-log4j12.jar (172ms)\n",
      "downloading https://repo1.maven.org/maven2/io/netty/netty/3.6.2.Final/netty-3.6.2.Final.jar ...\n",
      "\t[SUCCESSFUL ] io.netty#netty;3.6.2.Final!netty.jar(bundle) (201ms)\n",
      "downloading https://repo1.maven.org/maven2/javax/servlet/jsp/jsp-api/2.1/jsp-api-2.1.jar ...\n",
      "\t[SUCCESSFUL ] javax.servlet.jsp#jsp-api;2.1!jsp-api.jar (173ms)\n",
      "downloading https://repo1.maven.org/maven2/jline/jline/0.9.94/jline-0.9.94.jar ...\n",
      "\t[SUCCESSFUL ] jline#jline;0.9.94!jline.jar (173ms)\n",
      "downloading https://repo1.maven.org/maven2/junit/junit/4.11/junit-4.11.jar ...\n",
      "\t[SUCCESSFUL ] junit#junit;4.11!junit.jar (178ms)\n",
      "downloading https://repo1.maven.org/maven2/org/hamcrest/hamcrest-core/1.3/hamcrest-core-1.3.jar ...\n",
      "\t[SUCCESSFUL ] org.hamcrest#hamcrest-core;1.3!hamcrest-core.jar (172ms)\n",
      "downloading https://repo1.maven.org/maven2/com/fasterxml/jackson/core/jackson-core/2.2.3/jackson-core-2.2.3.jar ...\n",
      "\t[SUCCESSFUL ] com.fasterxml.jackson.core#jackson-core;2.2.3!jackson-core.jar (176ms)\n",
      ":: resolution report :: resolve 165174ms :: artifacts dl 14838ms\n",
      "\t:: modules in use:\n",
      "\tasm#asm;3.2 from central in [default]\n",
      "\tcom.amazonaws#aws-java-sdk;1.7.4 from central in [default]\n",
      "\tcom.fasterxml.jackson.core#jackson-annotations;2.2.3 from central in [default]\n",
      "\tcom.fasterxml.jackson.core#jackson-core;2.2.3 from central in [default]\n",
      "\tcom.fasterxml.jackson.core#jackson-databind;2.2.3 from central in [default]\n",
      "\tcom.google.code.findbugs#jsr305;3.0.0 from central in [default]\n",
      "\tcom.google.code.gson#gson;2.2.4 from central in [default]\n",
      "\tcom.google.guava#guava;11.0.2 from central in [default]\n",
      "\tcom.google.protobuf#protobuf-java;2.5.0 from central in [default]\n",
      "\tcom.jamesmurty.utils#java-xmlbuilder;0.4 from central in [default]\n",
      "\tcom.jcraft#jsch;0.1.42 from central in [default]\n",
      "\tcom.sun.jersey#jersey-core;1.9 from central in [default]\n",
      "\tcom.sun.jersey#jersey-json;1.9 from central in [default]\n",
      "\tcom.sun.jersey#jersey-server;1.9 from central in [default]\n",
      "\tcom.sun.xml.bind#jaxb-impl;2.2.3-1 from central in [default]\n",
      "\tcom.thoughtworks.paranamer#paranamer;2.3 from central in [default]\n",
      "\tcommons-beanutils#commons-beanutils;1.7.0 from central in [default]\n",
      "\tcommons-beanutils#commons-beanutils-core;1.8.0 from central in [default]\n",
      "\tcommons-cli#commons-cli;1.2 from central in [default]\n",
      "\tcommons-codec#commons-codec;1.4 from central in [default]\n",
      "\tcommons-collections#commons-collections;3.2.2 from central in [default]\n",
      "\tcommons-configuration#commons-configuration;1.6 from central in [default]\n",
      "\tcommons-digester#commons-digester;1.8 from central in [default]\n",
      "\tcommons-httpclient#commons-httpclient;3.1 from central in [default]\n",
      "\tcommons-io#commons-io;2.4 from central in [default]\n",
      "\tcommons-lang#commons-lang;2.6 from central in [default]\n",
      "\tcommons-logging#commons-logging;1.1.3 from central in [default]\n",
      "\tcommons-net#commons-net;3.1 from central in [default]\n",
      "\tio.netty#netty;3.6.2.Final from central in [default]\n",
      "\tjavax.activation#activation;1.1 from central in [default]\n",
      "\tjavax.servlet#servlet-api;2.5 from central in [default]\n",
      "\tjavax.servlet.jsp#jsp-api;2.1 from central in [default]\n",
      "\tjavax.xml.bind#jaxb-api;2.2.2 from central in [default]\n",
      "\tjavax.xml.stream#stax-api;1.0-2 from central in [default]\n",
      "\tjline#jline;0.9.94 from central in [default]\n",
      "\tjoda-time#joda-time;2.12.2 from central in [default]\n",
      "\tjunit#junit;4.11 from central in [default]\n",
      "\tlog4j#log4j;1.2.17 from central in [default]\n",
      "\tnet.java.dev.jets3t#jets3t;0.9.0 from central in [default]\n",
      "\torg.apache.avro#avro;1.7.4 from central in [default]\n",
      "\torg.apache.commons#commons-compress;1.4.1 from central in [default]\n",
      "\torg.apache.commons#commons-math3;3.1.1 from central in [default]\n",
      "\torg.apache.curator#curator-client;2.7.1 from central in [default]\n",
      "\torg.apache.curator#curator-framework;2.7.1 from central in [default]\n",
      "\torg.apache.curator#curator-recipes;2.7.1 from central in [default]\n",
      "\torg.apache.directory.api#api-asn1-api;1.0.0-M20 from central in [default]\n",
      "\torg.apache.directory.api#api-util;1.0.0-M20 from central in [default]\n",
      "\torg.apache.directory.server#apacheds-i18n;2.0.0-M15 from central in [default]\n",
      "\torg.apache.directory.server#apacheds-kerberos-codec;2.0.0-M15 from central in [default]\n",
      "\torg.apache.hadoop#hadoop-annotations;2.7.3 from central in [default]\n",
      "\torg.apache.hadoop#hadoop-auth;2.7.3 from central in [default]\n",
      "\torg.apache.hadoop#hadoop-aws;2.7.3 from central in [default]\n",
      "\torg.apache.hadoop#hadoop-common;2.7.3 from central in [default]\n",
      "\torg.apache.htrace#htrace-core;3.1.0-incubating from central in [default]\n",
      "\torg.apache.httpcomponents#httpclient;4.2.5 from central in [default]\n",
      "\torg.apache.httpcomponents#httpcore;4.2.5 from central in [default]\n",
      "\torg.apache.zookeeper#zookeeper;3.4.6 from central in [default]\n",
      "\torg.codehaus.jackson#jackson-core-asl;1.9.13 from central in [default]\n",
      "\torg.codehaus.jackson#jackson-jaxrs;1.9.13 from central in [default]\n",
      "\torg.codehaus.jackson#jackson-mapper-asl;1.9.13 from central in [default]\n",
      "\torg.codehaus.jackson#jackson-xc;1.9.13 from central in [default]\n",
      "\torg.codehaus.jettison#jettison;1.1 from central in [default]\n",
      "\torg.hamcrest#hamcrest-core;1.3 from central in [default]\n",
      "\torg.mortbay.jetty#jetty;6.1.26 from central in [default]\n",
      "\torg.mortbay.jetty#jetty-util;6.1.26 from central in [default]\n",
      "\torg.slf4j#slf4j-api;1.7.10 from central in [default]\n",
      "\torg.slf4j#slf4j-log4j12;1.7.10 from central in [default]\n",
      "\torg.tukaani#xz;1.0 from central in [default]\n",
      "\torg.xerial.snappy#snappy-java;1.0.4.1 from central in [default]\n",
      "\txmlenc#xmlenc;0.52 from central in [default]\n",
      "\t:: evicted modules:\n",
      "\tcommons-logging#commons-logging;1.1.1 by [commons-logging#commons-logging;1.1.3] in [default]\n",
      "\torg.apache.httpcomponents#httpclient;4.2 by [org.apache.httpcomponents#httpclient;4.2.5] in [default]\n",
      "\torg.apache.httpcomponents#httpcore;4.2 by [org.apache.httpcomponents#httpcore;4.2.5] in [default]\n",
      "\tcommons-codec#commons-codec;1.6 by [commons-codec#commons-codec;1.3] in [default]\n",
      "\tcommons-codec#commons-codec;1.3 by [commons-codec#commons-codec;1.4] in [default]\n",
      "\tcom.fasterxml.jackson.core#jackson-core;2.1.1 by [com.fasterxml.jackson.core#jackson-core;2.2.3] in [default]\n",
      "\tcom.fasterxml.jackson.core#jackson-databind;2.1.1 by [com.fasterxml.jackson.core#jackson-databind;2.2.3] in [default]\n",
      "\tcom.fasterxml.jackson.core#jackson-annotations;2.1.1 by [com.fasterxml.jackson.core#jackson-annotations;2.2.3] in [default]\n",
      "\t---------------------------------------------------------------------\n",
      "\t|                  |            modules            ||   artifacts   |\n",
      "\t|       conf       | number| search|dwnlded|evicted|| number|dwnlded|\n",
      "\t---------------------------------------------------------------------\n",
      "\t|      default     |   78  |   77  |   77  |   8   ||   70  |   70  |\n",
      "\t---------------------------------------------------------------------\n",
      ":: retrieving :: org.apache.spark#spark-submit-parent-ceb9df33-1323-4814-9354-7ff3b24648aa\n",
      "\tconfs: [default]\n",
      "\t70 artifacts copied, 0 already retrieved (36495kB/89ms)\n",
      "23/01/19 10:05:12 WARN NativeCodeLoader: Unable to load native-hadoop library for your platform... using builtin-java classes where applicable\n",
      "Setting default log level to \"WARN\".\n",
      "To adjust logging level use sc.setLogLevel(newLevel). For SparkR, use setLogLevel(newLevel).\n"
     ]
    }
   ],
   "source": [
    "from finance_complaint.config.spark_manager import spark_session"
   ]
  },
  {
   "cell_type": "code",
   "execution_count": 5,
   "id": "156d4042",
   "metadata": {},
   "outputs": [
    {
     "name": "stderr",
     "output_type": "stream",
     "text": [
      "                                                                                \r"
     ]
    }
   ],
   "source": [
    "df = spark_session.read.parquet(data_file_path) "
   ]
  },
  {
   "cell_type": "code",
   "execution_count": 6,
   "id": "b786fc20",
   "metadata": {},
   "outputs": [
    {
     "data": {
      "text/plain": [
       "262127"
      ]
     },
     "execution_count": 6,
     "metadata": {},
     "output_type": "execute_result"
    }
   ],
   "source": [
    "df.count() "
   ]
  },
  {
   "cell_type": "code",
   "execution_count": 7,
   "id": "d6e9f684",
   "metadata": {},
   "outputs": [],
   "source": [
    "from pyspark.sql.functions import col"
   ]
  },
  {
   "cell_type": "code",
   "execution_count": 8,
   "id": "908b52bf",
   "metadata": {},
   "outputs": [
    {
     "data": {
      "text/plain": [
       "262127"
      ]
     },
     "execution_count": 8,
     "metadata": {},
     "output_type": "execute_result"
    }
   ],
   "source": [
    "df.count()"
   ]
  },
  {
   "cell_type": "code",
   "execution_count": 9,
   "id": "bf10397c",
   "metadata": {},
   "outputs": [
    {
     "data": {
      "text/plain": [
       "['company',\n",
       " 'company_public_response',\n",
       " 'company_response',\n",
       " 'complaint_id',\n",
       " 'complaint_what_happened',\n",
       " 'consumer_consent_provided',\n",
       " 'consumer_disputed',\n",
       " 'date_received',\n",
       " 'date_sent_to_company',\n",
       " 'issue',\n",
       " 'product',\n",
       " 'state',\n",
       " 'sub_issue',\n",
       " 'sub_product',\n",
       " 'submitted_via',\n",
       " 'tags',\n",
       " 'timely',\n",
       " 'zip_code']"
      ]
     },
     "execution_count": 9,
     "metadata": {},
     "output_type": "execute_result"
    }
   ],
   "source": [
    "df.columns"
   ]
  },
  {
   "cell_type": "code",
   "execution_count": 10,
   "id": "8b91a9e4",
   "metadata": {},
   "outputs": [
    {
     "name": "stderr",
     "output_type": "stream",
     "text": [
      "                                                                                \r"
     ]
    },
    {
     "name": "stdout",
     "output_type": "stream",
     "text": [
      "+--------------------+-----+----------+\n",
      "|             g_state|count|freq_count|\n",
      "+--------------------+-----+----------+\n",
      "|UNITED STATES MIN...|   25|        25|\n",
      "|                  AZ| 4467|      4467|\n",
      "|                  SC| 5637|      5637|\n",
      "|                  LA| 5272|      5272|\n",
      "|                  MN| 1746|      1746|\n",
      "|                  AA|    2|         2|\n",
      "|                  NJ| 8437|      8437|\n",
      "|                  DC| 1148|      1148|\n",
      "|                  OR| 1081|      1081|\n",
      "|                  VA| 6476|      6476|\n",
      "|                null|  454|       454|\n",
      "|                  RI|  472|       472|\n",
      "|                  KY| 1249|      1249|\n",
      "|                  WY|  109|       109|\n",
      "|                  NH|  282|       282|\n",
      "|                  MI| 6693|      6693|\n",
      "|                  NV| 4413|      4413|\n",
      "|                  WI| 2096|      2096|\n",
      "|                  ID|  356|       356|\n",
      "|                  CA|26214|     26214|\n",
      "+--------------------+-----+----------+\n",
      "only showing top 20 rows\n",
      "\n"
     ]
    }
   ],
   "source": [
    "df.select(col('state').alias(f'g_state')).groupby(f'g_state').count().withColumn('freq_count', col('count')).show()"
   ]
  },
  {
   "cell_type": "code",
   "execution_count": 11,
   "id": "28349fbb",
   "metadata": {},
   "outputs": [],
   "source": [
    "df = df.select(col('state').alias(f'g_state')).groupby(f'g_state').count().withColumn('freq_count', col('count'))\n"
   ]
  },
  {
   "cell_type": "code",
   "execution_count": 12,
   "id": "bc68ea5c",
   "metadata": {},
   "outputs": [],
   "source": [
    "df = df.drop('count')"
   ]
  },
  {
   "cell_type": "code",
   "execution_count": 13,
   "id": "ab056be2",
   "metadata": {},
   "outputs": [
    {
     "name": "stdout",
     "output_type": "stream",
     "text": [
      "+--------------------+----------+\n",
      "|             g_state|freq_count|\n",
      "+--------------------+----------+\n",
      "|UNITED STATES MIN...|        25|\n",
      "|                  AZ|      4467|\n",
      "|                  SC|      5637|\n",
      "|                  LA|      5272|\n",
      "|                  MN|      1746|\n",
      "|                  AA|         2|\n",
      "|                  NJ|      8437|\n",
      "|                  DC|      1148|\n",
      "|                  OR|      1081|\n",
      "|                  VA|      6476|\n",
      "|                null|       454|\n",
      "|                  RI|       472|\n",
      "|                  KY|      1249|\n",
      "|                  WY|       109|\n",
      "|                  NH|       282|\n",
      "|                  MI|      6693|\n",
      "|                  NV|      4413|\n",
      "|                  WI|      2096|\n",
      "|                  ID|       356|\n",
      "|                  CA|     26214|\n",
      "+--------------------+----------+\n",
      "only showing top 20 rows\n",
      "\n"
     ]
    }
   ],
   "source": [
    "df.show()"
   ]
  },
  {
   "cell_type": "code",
   "execution_count": 14,
   "id": "97ea6062",
   "metadata": {},
   "outputs": [
    {
     "data": {
      "text/plain": [
       "[Row(g_state='UNITED STATES MINOR OUTLYING ISLANDS', freq_count=25),\n",
       " Row(g_state='AZ', freq_count=4467),\n",
       " Row(g_state='SC', freq_count=5637),\n",
       " Row(g_state='LA', freq_count=5272),\n",
       " Row(g_state='MN', freq_count=1746),\n",
       " Row(g_state='AA', freq_count=2),\n",
       " Row(g_state='NJ', freq_count=8437),\n",
       " Row(g_state='DC', freq_count=1148),\n",
       " Row(g_state='OR', freq_count=1081),\n",
       " Row(g_state='VA', freq_count=6476),\n",
       " Row(g_state=None, freq_count=454),\n",
       " Row(g_state='RI', freq_count=472),\n",
       " Row(g_state='KY', freq_count=1249),\n",
       " Row(g_state='WY', freq_count=109),\n",
       " Row(g_state='NH', freq_count=282),\n",
       " Row(g_state='MI', freq_count=6693),\n",
       " Row(g_state='NV', freq_count=4413),\n",
       " Row(g_state='WI', freq_count=2096),\n",
       " Row(g_state='ID', freq_count=356),\n",
       " Row(g_state='CA', freq_count=26214),\n",
       " Row(g_state='CT', freq_count=2044),\n",
       " Row(g_state='NE', freq_count=395),\n",
       " Row(g_state='MT', freq_count=243),\n",
       " Row(g_state='NC', freq_count=10416),\n",
       " Row(g_state='VT', freq_count=86),\n",
       " Row(g_state='MD', freq_count=7059),\n",
       " Row(g_state='DE', freq_count=1670),\n",
       " Row(g_state='MO', freq_count=3472),\n",
       " Row(g_state='VI', freq_count=56),\n",
       " Row(g_state='IL', freq_count=11550),\n",
       " Row(g_state='ME', freq_count=265),\n",
       " Row(g_state='GU', freq_count=4),\n",
       " Row(g_state='WA', freq_count=2139),\n",
       " Row(g_state='ND', freq_count=169),\n",
       " Row(g_state='MS', freq_count=2833),\n",
       " Row(g_state='AL', freq_count=5806),\n",
       " Row(g_state='IN', freq_count=2763),\n",
       " Row(g_state='AE', freq_count=74),\n",
       " Row(g_state='OH', freq_count=6397),\n",
       " Row(g_state='TN', freq_count=4368),\n",
       " Row(g_state='NM', freq_count=577),\n",
       " Row(g_state='IA', freq_count=677),\n",
       " Row(g_state='PA', freq_count=14324),\n",
       " Row(g_state='SD', freq_count=129),\n",
       " Row(g_state='NY', freq_count=15584),\n",
       " Row(g_state='TX', freq_count=27107),\n",
       " Row(g_state='WV', freq_count=340),\n",
       " Row(g_state='GA', freq_count=22440),\n",
       " Row(g_state='MA', freq_count=2743),\n",
       " Row(g_state='KS', freq_count=734),\n",
       " Row(g_state='FL', freq_count=32094),\n",
       " Row(g_state='CO', freq_count=2014),\n",
       " Row(g_state='AK', freq_count=183),\n",
       " Row(g_state='AR', freq_count=1887),\n",
       " Row(g_state='OK', freq_count=1272),\n",
       " Row(g_state='PR', freq_count=353),\n",
       " Row(g_state='AP', freq_count=20),\n",
       " Row(g_state='MP', freq_count=3),\n",
       " Row(g_state='UT', freq_count=764),\n",
       " Row(g_state='HI', freq_count=444)]"
      ]
     },
     "execution_count": 14,
     "metadata": {},
     "output_type": "execute_result"
    }
   ],
   "source": [
    "df.collect()"
   ]
  },
  {
   "cell_type": "code",
   "execution_count": 15,
   "id": "7f169f82",
   "metadata": {},
   "outputs": [
    {
     "data": {
      "text/plain": [
       "Row(g_state='UNITED STATES MINOR OUTLYING ISLANDS', freq_count=25)"
      ]
     },
     "execution_count": 15,
     "metadata": {},
     "output_type": "execute_result"
    }
   ],
   "source": [
    "df.collect()[0]"
   ]
  },
  {
   "cell_type": "code",
   "execution_count": 16,
   "id": "8b119d0f",
   "metadata": {},
   "outputs": [
    {
     "data": {
      "text/plain": [
       "'UNITED STATES MINOR OUTLYING ISLANDS'"
      ]
     },
     "execution_count": 16,
     "metadata": {},
     "output_type": "execute_result"
    }
   ],
   "source": [
    "df.collect()[0].g_state"
   ]
  },
  {
   "cell_type": "code",
   "execution_count": 17,
   "id": "3613910c",
   "metadata": {},
   "outputs": [
    {
     "data": {
      "text/plain": [
       "25"
      ]
     },
     "execution_count": 17,
     "metadata": {},
     "output_type": "execute_result"
    }
   ],
   "source": [
    "df.collect()[0].freq_count"
   ]
  },
  {
   "cell_type": "code",
   "execution_count": 18,
   "id": "382ee0fd",
   "metadata": {},
   "outputs": [
    {
     "name": "stdout",
     "output_type": "stream",
     "text": [
      "+--------------------+----------+\n",
      "|             g_state|freq_count|\n",
      "+--------------------+----------+\n",
      "|UNITED STATES MIN...|        25|\n",
      "|                  AZ|      4467|\n",
      "|                  SC|      5637|\n",
      "|                  LA|      5272|\n",
      "|                  MN|      1746|\n",
      "|                  AA|         2|\n",
      "|                  NJ|      8437|\n",
      "|                  DC|      1148|\n",
      "|                  OR|      1081|\n",
      "|                  VA|      6476|\n",
      "|                null|       454|\n",
      "|                  RI|       472|\n",
      "|                  KY|      1249|\n",
      "|                  WY|       109|\n",
      "|                  NH|       282|\n",
      "|                  MI|      6693|\n",
      "|                  NV|      4413|\n",
      "|                  WI|      2096|\n",
      "|                  ID|       356|\n",
      "|                  CA|     26214|\n",
      "+--------------------+----------+\n",
      "only showing top 20 rows\n",
      "\n"
     ]
    }
   ],
   "source": [
    "spark_session.createDataFrame(df.collect()).show()"
   ]
  },
  {
   "cell_type": "code",
   "execution_count": 20,
   "id": "1e1fbde7",
   "metadata": {},
   "outputs": [
    {
     "data": {
      "text/plain": [
       "DataFrame[company: string, company_public_response: string, company_response: string, complaint_id: string, complaint_what_happened: string, consumer_consent_provided: string, consumer_disputed: string, date_received: string, date_sent_to_company: string, issue: string, product: string, state: string, sub_issue: string, sub_product: string, submitted_via: string, tags: string, timely: string, zip_code: string]"
      ]
     },
     "execution_count": 20,
     "metadata": {},
     "output_type": "execute_result"
    }
   ],
   "source": [
    "df = spark_session.read.parquet(data_file_path)\n",
    "df"
   ]
  },
  {
   "cell_type": "code",
   "execution_count": 21,
   "id": "ce94668d",
   "metadata": {},
   "outputs": [
    {
     "data": {
      "text/plain": [
       "['company',\n",
       " 'company_public_response',\n",
       " 'company_response',\n",
       " 'complaint_id',\n",
       " 'complaint_what_happened',\n",
       " 'consumer_consent_provided',\n",
       " 'consumer_disputed',\n",
       " 'date_received',\n",
       " 'date_sent_to_company',\n",
       " 'issue',\n",
       " 'product',\n",
       " 'state',\n",
       " 'sub_issue',\n",
       " 'sub_product',\n",
       " 'submitted_via',\n",
       " 'tags',\n",
       " 'timely',\n",
       " 'zip_code']"
      ]
     },
     "execution_count": 21,
     "metadata": {},
     "output_type": "execute_result"
    }
   ],
   "source": [
    "df.columns"
   ]
  },
  {
   "cell_type": "code",
   "execution_count": 22,
   "id": "e1948a2e",
   "metadata": {},
   "outputs": [],
   "source": [
    "df.createOrReplaceTempView(\"complaint\")"
   ]
  },
  {
   "cell_type": "code",
   "execution_count": 23,
   "id": "e9d53c0a",
   "metadata": {},
   "outputs": [],
   "source": [
    "## sql query in pyspark\n",
    "df1 = spark_session.sql('select state,count(*) as freq_count from complaint group by state')\n"
   ]
  },
  {
   "cell_type": "code",
   "execution_count": 26,
   "id": "89b2e36f",
   "metadata": {},
   "outputs": [
    {
     "name": "stdout",
     "output_type": "stream",
     "text": [
      "Collecting Pandas\n",
      "  Using cached pandas-1.5.2-cp38-cp38-manylinux_2_17_x86_64.manylinux2014_x86_64.whl (12.2 MB)\n",
      "Collecting numpy>=1.20.3; python_version < \"3.10\"\n",
      "  Downloading numpy-1.24.1-cp38-cp38-manylinux_2_17_x86_64.manylinux2014_x86_64.whl (17.3 MB)\n",
      "\u001b[K     |████████████████████████████████| 17.3 MB 23.0 MB/s eta 0:00:01\n",
      "\u001b[?25hCollecting pytz>=2020.1\n",
      "  Downloading pytz-2022.7.1-py2.py3-none-any.whl (499 kB)\n",
      "\u001b[K     |████████████████████████████████| 499 kB 66.9 MB/s eta 0:00:01\n",
      "\u001b[?25hRequirement already satisfied: python-dateutil>=2.8.1 in /config/.local/lib/python3.8/site-packages (from Pandas) (2.8.2)\n",
      "Requirement already satisfied: six>=1.5 in /config/.local/lib/python3.8/site-packages (from python-dateutil>=2.8.1->Pandas) (1.16.0)\n",
      "Installing collected packages: numpy, pytz, Pandas\n",
      "\u001b[33m  WARNING: The scripts f2py, f2py3 and f2py3.8 are installed in '/config/.local/bin' which is not on PATH.\n",
      "  Consider adding this directory to PATH or, if you prefer to suppress this warning, use --no-warn-script-location.\u001b[0m\n",
      "Successfully installed Pandas-1.5.2 numpy-1.24.1 pytz-2022.7.1\n"
     ]
    }
   ],
   "source": [
    "!pip install Pandas "
   ]
  },
  {
   "cell_type": "code",
   "execution_count": 27,
   "id": "00e2854b",
   "metadata": {},
   "outputs": [
    {
     "data": {
      "text/html": [
       "<div>\n",
       "<style scoped>\n",
       "    .dataframe tbody tr th:only-of-type {\n",
       "        vertical-align: middle;\n",
       "    }\n",
       "\n",
       "    .dataframe tbody tr th {\n",
       "        vertical-align: top;\n",
       "    }\n",
       "\n",
       "    .dataframe thead th {\n",
       "        text-align: right;\n",
       "    }\n",
       "</style>\n",
       "<table border=\"1\" class=\"dataframe\">\n",
       "  <thead>\n",
       "    <tr style=\"text-align: right;\">\n",
       "      <th></th>\n",
       "      <th>state</th>\n",
       "      <th>freq_count</th>\n",
       "    </tr>\n",
       "  </thead>\n",
       "  <tbody>\n",
       "    <tr>\n",
       "      <th>0</th>\n",
       "      <td>UNITED STATES MINOR OUTLYING ISLANDS</td>\n",
       "      <td>25</td>\n",
       "    </tr>\n",
       "    <tr>\n",
       "      <th>1</th>\n",
       "      <td>AZ</td>\n",
       "      <td>4467</td>\n",
       "    </tr>\n",
       "    <tr>\n",
       "      <th>2</th>\n",
       "      <td>SC</td>\n",
       "      <td>5637</td>\n",
       "    </tr>\n",
       "    <tr>\n",
       "      <th>3</th>\n",
       "      <td>LA</td>\n",
       "      <td>5272</td>\n",
       "    </tr>\n",
       "    <tr>\n",
       "      <th>4</th>\n",
       "      <td>MN</td>\n",
       "      <td>1746</td>\n",
       "    </tr>\n",
       "    <tr>\n",
       "      <th>5</th>\n",
       "      <td>AA</td>\n",
       "      <td>2</td>\n",
       "    </tr>\n",
       "    <tr>\n",
       "      <th>6</th>\n",
       "      <td>NJ</td>\n",
       "      <td>8437</td>\n",
       "    </tr>\n",
       "    <tr>\n",
       "      <th>7</th>\n",
       "      <td>DC</td>\n",
       "      <td>1148</td>\n",
       "    </tr>\n",
       "    <tr>\n",
       "      <th>8</th>\n",
       "      <td>OR</td>\n",
       "      <td>1081</td>\n",
       "    </tr>\n",
       "    <tr>\n",
       "      <th>9</th>\n",
       "      <td>VA</td>\n",
       "      <td>6476</td>\n",
       "    </tr>\n",
       "    <tr>\n",
       "      <th>10</th>\n",
       "      <td>None</td>\n",
       "      <td>454</td>\n",
       "    </tr>\n",
       "    <tr>\n",
       "      <th>11</th>\n",
       "      <td>RI</td>\n",
       "      <td>472</td>\n",
       "    </tr>\n",
       "    <tr>\n",
       "      <th>12</th>\n",
       "      <td>KY</td>\n",
       "      <td>1249</td>\n",
       "    </tr>\n",
       "    <tr>\n",
       "      <th>13</th>\n",
       "      <td>WY</td>\n",
       "      <td>109</td>\n",
       "    </tr>\n",
       "    <tr>\n",
       "      <th>14</th>\n",
       "      <td>NH</td>\n",
       "      <td>282</td>\n",
       "    </tr>\n",
       "    <tr>\n",
       "      <th>15</th>\n",
       "      <td>MI</td>\n",
       "      <td>6693</td>\n",
       "    </tr>\n",
       "    <tr>\n",
       "      <th>16</th>\n",
       "      <td>NV</td>\n",
       "      <td>4413</td>\n",
       "    </tr>\n",
       "    <tr>\n",
       "      <th>17</th>\n",
       "      <td>WI</td>\n",
       "      <td>2096</td>\n",
       "    </tr>\n",
       "    <tr>\n",
       "      <th>18</th>\n",
       "      <td>ID</td>\n",
       "      <td>356</td>\n",
       "    </tr>\n",
       "    <tr>\n",
       "      <th>19</th>\n",
       "      <td>CA</td>\n",
       "      <td>26214</td>\n",
       "    </tr>\n",
       "    <tr>\n",
       "      <th>20</th>\n",
       "      <td>CT</td>\n",
       "      <td>2044</td>\n",
       "    </tr>\n",
       "    <tr>\n",
       "      <th>21</th>\n",
       "      <td>NE</td>\n",
       "      <td>395</td>\n",
       "    </tr>\n",
       "    <tr>\n",
       "      <th>22</th>\n",
       "      <td>MT</td>\n",
       "      <td>243</td>\n",
       "    </tr>\n",
       "    <tr>\n",
       "      <th>23</th>\n",
       "      <td>NC</td>\n",
       "      <td>10416</td>\n",
       "    </tr>\n",
       "    <tr>\n",
       "      <th>24</th>\n",
       "      <td>VT</td>\n",
       "      <td>86</td>\n",
       "    </tr>\n",
       "    <tr>\n",
       "      <th>25</th>\n",
       "      <td>MD</td>\n",
       "      <td>7059</td>\n",
       "    </tr>\n",
       "    <tr>\n",
       "      <th>26</th>\n",
       "      <td>DE</td>\n",
       "      <td>1670</td>\n",
       "    </tr>\n",
       "    <tr>\n",
       "      <th>27</th>\n",
       "      <td>MO</td>\n",
       "      <td>3472</td>\n",
       "    </tr>\n",
       "    <tr>\n",
       "      <th>28</th>\n",
       "      <td>VI</td>\n",
       "      <td>56</td>\n",
       "    </tr>\n",
       "    <tr>\n",
       "      <th>29</th>\n",
       "      <td>IL</td>\n",
       "      <td>11550</td>\n",
       "    </tr>\n",
       "    <tr>\n",
       "      <th>30</th>\n",
       "      <td>ME</td>\n",
       "      <td>265</td>\n",
       "    </tr>\n",
       "    <tr>\n",
       "      <th>31</th>\n",
       "      <td>GU</td>\n",
       "      <td>4</td>\n",
       "    </tr>\n",
       "    <tr>\n",
       "      <th>32</th>\n",
       "      <td>WA</td>\n",
       "      <td>2139</td>\n",
       "    </tr>\n",
       "    <tr>\n",
       "      <th>33</th>\n",
       "      <td>ND</td>\n",
       "      <td>169</td>\n",
       "    </tr>\n",
       "    <tr>\n",
       "      <th>34</th>\n",
       "      <td>MS</td>\n",
       "      <td>2833</td>\n",
       "    </tr>\n",
       "    <tr>\n",
       "      <th>35</th>\n",
       "      <td>AL</td>\n",
       "      <td>5806</td>\n",
       "    </tr>\n",
       "    <tr>\n",
       "      <th>36</th>\n",
       "      <td>IN</td>\n",
       "      <td>2763</td>\n",
       "    </tr>\n",
       "    <tr>\n",
       "      <th>37</th>\n",
       "      <td>AE</td>\n",
       "      <td>74</td>\n",
       "    </tr>\n",
       "    <tr>\n",
       "      <th>38</th>\n",
       "      <td>OH</td>\n",
       "      <td>6397</td>\n",
       "    </tr>\n",
       "    <tr>\n",
       "      <th>39</th>\n",
       "      <td>TN</td>\n",
       "      <td>4368</td>\n",
       "    </tr>\n",
       "    <tr>\n",
       "      <th>40</th>\n",
       "      <td>NM</td>\n",
       "      <td>577</td>\n",
       "    </tr>\n",
       "    <tr>\n",
       "      <th>41</th>\n",
       "      <td>IA</td>\n",
       "      <td>677</td>\n",
       "    </tr>\n",
       "    <tr>\n",
       "      <th>42</th>\n",
       "      <td>PA</td>\n",
       "      <td>14324</td>\n",
       "    </tr>\n",
       "    <tr>\n",
       "      <th>43</th>\n",
       "      <td>SD</td>\n",
       "      <td>129</td>\n",
       "    </tr>\n",
       "    <tr>\n",
       "      <th>44</th>\n",
       "      <td>NY</td>\n",
       "      <td>15584</td>\n",
       "    </tr>\n",
       "    <tr>\n",
       "      <th>45</th>\n",
       "      <td>TX</td>\n",
       "      <td>27107</td>\n",
       "    </tr>\n",
       "    <tr>\n",
       "      <th>46</th>\n",
       "      <td>WV</td>\n",
       "      <td>340</td>\n",
       "    </tr>\n",
       "    <tr>\n",
       "      <th>47</th>\n",
       "      <td>GA</td>\n",
       "      <td>22440</td>\n",
       "    </tr>\n",
       "    <tr>\n",
       "      <th>48</th>\n",
       "      <td>MA</td>\n",
       "      <td>2743</td>\n",
       "    </tr>\n",
       "    <tr>\n",
       "      <th>49</th>\n",
       "      <td>KS</td>\n",
       "      <td>734</td>\n",
       "    </tr>\n",
       "    <tr>\n",
       "      <th>50</th>\n",
       "      <td>FL</td>\n",
       "      <td>32094</td>\n",
       "    </tr>\n",
       "    <tr>\n",
       "      <th>51</th>\n",
       "      <td>CO</td>\n",
       "      <td>2014</td>\n",
       "    </tr>\n",
       "    <tr>\n",
       "      <th>52</th>\n",
       "      <td>AK</td>\n",
       "      <td>183</td>\n",
       "    </tr>\n",
       "    <tr>\n",
       "      <th>53</th>\n",
       "      <td>AR</td>\n",
       "      <td>1887</td>\n",
       "    </tr>\n",
       "    <tr>\n",
       "      <th>54</th>\n",
       "      <td>OK</td>\n",
       "      <td>1272</td>\n",
       "    </tr>\n",
       "    <tr>\n",
       "      <th>55</th>\n",
       "      <td>PR</td>\n",
       "      <td>353</td>\n",
       "    </tr>\n",
       "    <tr>\n",
       "      <th>56</th>\n",
       "      <td>AP</td>\n",
       "      <td>20</td>\n",
       "    </tr>\n",
       "    <tr>\n",
       "      <th>57</th>\n",
       "      <td>MP</td>\n",
       "      <td>3</td>\n",
       "    </tr>\n",
       "    <tr>\n",
       "      <th>58</th>\n",
       "      <td>UT</td>\n",
       "      <td>764</td>\n",
       "    </tr>\n",
       "    <tr>\n",
       "      <th>59</th>\n",
       "      <td>HI</td>\n",
       "      <td>444</td>\n",
       "    </tr>\n",
       "  </tbody>\n",
       "</table>\n",
       "</div>"
      ],
      "text/plain": [
       "                                   state  freq_count\n",
       "0   UNITED STATES MINOR OUTLYING ISLANDS          25\n",
       "1                                     AZ        4467\n",
       "2                                     SC        5637\n",
       "3                                     LA        5272\n",
       "4                                     MN        1746\n",
       "5                                     AA           2\n",
       "6                                     NJ        8437\n",
       "7                                     DC        1148\n",
       "8                                     OR        1081\n",
       "9                                     VA        6476\n",
       "10                                  None         454\n",
       "11                                    RI         472\n",
       "12                                    KY        1249\n",
       "13                                    WY         109\n",
       "14                                    NH         282\n",
       "15                                    MI        6693\n",
       "16                                    NV        4413\n",
       "17                                    WI        2096\n",
       "18                                    ID         356\n",
       "19                                    CA       26214\n",
       "20                                    CT        2044\n",
       "21                                    NE         395\n",
       "22                                    MT         243\n",
       "23                                    NC       10416\n",
       "24                                    VT          86\n",
       "25                                    MD        7059\n",
       "26                                    DE        1670\n",
       "27                                    MO        3472\n",
       "28                                    VI          56\n",
       "29                                    IL       11550\n",
       "30                                    ME         265\n",
       "31                                    GU           4\n",
       "32                                    WA        2139\n",
       "33                                    ND         169\n",
       "34                                    MS        2833\n",
       "35                                    AL        5806\n",
       "36                                    IN        2763\n",
       "37                                    AE          74\n",
       "38                                    OH        6397\n",
       "39                                    TN        4368\n",
       "40                                    NM         577\n",
       "41                                    IA         677\n",
       "42                                    PA       14324\n",
       "43                                    SD         129\n",
       "44                                    NY       15584\n",
       "45                                    TX       27107\n",
       "46                                    WV         340\n",
       "47                                    GA       22440\n",
       "48                                    MA        2743\n",
       "49                                    KS         734\n",
       "50                                    FL       32094\n",
       "51                                    CO        2014\n",
       "52                                    AK         183\n",
       "53                                    AR        1887\n",
       "54                                    OK        1272\n",
       "55                                    PR         353\n",
       "56                                    AP          20\n",
       "57                                    MP           3\n",
       "58                                    UT         764\n",
       "59                                    HI         444"
      ]
     },
     "execution_count": 27,
     "metadata": {},
     "output_type": "execute_result"
    }
   ],
   "source": [
    "## converting to pandas dataframe\n",
    "df1.toPandas()"
   ]
  },
  {
   "cell_type": "code",
   "execution_count": 28,
   "id": "08016006",
   "metadata": {},
   "outputs": [
    {
     "name": "stdout",
     "output_type": "stream",
     "text": [
      "Collecting matplotlib\n",
      "  Downloading matplotlib-3.6.3-cp38-cp38-manylinux_2_12_x86_64.manylinux2010_x86_64.whl (9.4 MB)\n",
      "\u001b[K     |████████████████████████████████| 9.4 MB 24.2 MB/s eta 0:00:01\n",
      "\u001b[?25hCollecting pillow>=6.2.0\n",
      "  Downloading Pillow-9.4.0-cp38-cp38-manylinux_2_17_x86_64.manylinux2014_x86_64.whl (3.3 MB)\n",
      "\u001b[K     |████████████████████████████████| 3.3 MB 65.8 MB/s eta 0:00:01\n",
      "\u001b[?25hRequirement already satisfied: packaging>=20.0 in /config/.local/lib/python3.8/site-packages (from matplotlib) (23.0)\n",
      "Collecting contourpy>=1.0.1\n",
      "  Downloading contourpy-1.0.7-cp38-cp38-manylinux_2_17_x86_64.manylinux2014_x86_64.whl (300 kB)\n",
      "\u001b[K     |████████████████████████████████| 300 kB 69.5 MB/s eta 0:00:01\n",
      "\u001b[?25hCollecting pyparsing>=2.2.1\n",
      "  Downloading pyparsing-3.0.9-py3-none-any.whl (98 kB)\n",
      "\u001b[K     |████████████████████████████████| 98 kB 11.7 MB/s eta 0:00:01\n",
      "\u001b[?25hRequirement already satisfied: numpy>=1.19 in /config/.local/lib/python3.8/site-packages (from matplotlib) (1.24.1)\n",
      "Collecting kiwisolver>=1.0.1\n",
      "  Downloading kiwisolver-1.4.4-cp38-cp38-manylinux_2_5_x86_64.manylinux1_x86_64.whl (1.2 MB)\n",
      "\u001b[K     |████████████████████████████████| 1.2 MB 69.2 MB/s eta 0:00:01\n",
      "\u001b[?25hCollecting cycler>=0.10\n",
      "  Downloading cycler-0.11.0-py3-none-any.whl (6.4 kB)\n",
      "Collecting fonttools>=4.22.0\n",
      "  Downloading fonttools-4.38.0-py3-none-any.whl (965 kB)\n",
      "\u001b[K     |████████████████████████████████| 965 kB 61.8 MB/s eta 0:00:01\n",
      "\u001b[?25hRequirement already satisfied: python-dateutil>=2.7 in /config/.local/lib/python3.8/site-packages (from matplotlib) (2.8.2)\n",
      "Requirement already satisfied: six>=1.5 in /config/.local/lib/python3.8/site-packages (from python-dateutil>=2.7->matplotlib) (1.16.0)\n",
      "Installing collected packages: pillow, contourpy, pyparsing, kiwisolver, cycler, fonttools, matplotlib\n",
      "\u001b[33m  WARNING: The scripts fonttools, pyftmerge, pyftsubset and ttx are installed in '/config/.local/bin' which is not on PATH.\n",
      "  Consider adding this directory to PATH or, if you prefer to suppress this warning, use --no-warn-script-location.\u001b[0m\n",
      "Successfully installed contourpy-1.0.7 cycler-0.11.0 fonttools-4.38.0 kiwisolver-1.4.4 matplotlib-3.6.3 pillow-9.4.0 pyparsing-3.0.9\n"
     ]
    }
   ],
   "source": [
    "!pip install matplotlib"
   ]
  },
  {
   "cell_type": "code",
   "execution_count": 29,
   "id": "45185b26",
   "metadata": {},
   "outputs": [
    {
     "data": {
      "text/plain": [
       "<AxesSubplot: ylabel='Frequency'>"
      ]
     },
     "execution_count": 29,
     "metadata": {},
     "output_type": "execute_result"
    },
    {
     "data": {
      "image/png": "[encoded data removed]",
      "text/plain": [
       "<Figure size 640x480 with 1 Axes>"
      ]
     },
     "metadata": {},
     "output_type": "display_data"
    }
   ],
   "source": [
    "df1.toPandas().plot(kind = \"hist\")"
   ]
  },
  {
   "cell_type": "markdown",
   "id": "23946bea",
   "metadata": {},
   "source": [
    "## Conf"
   ]
  },
  {
   "cell_type": "code",
   "execution_count": null,
   "id": "2cecfd60",
   "metadata": {},
   "outputs": [],
   "source": [
    "def update_column_attribute(df):\n",
    "    for column in df.columns:\n",
    "        setattr(df,column,column)"
   ]
  },
  {
   "cell_type": "code",
   "execution_count": null,
   "id": "d027664b",
   "metadata": {},
   "outputs": [],
   "source": [
    "update_column_attribute(df)"
   ]
  },
  {
   "cell_type": "markdown",
   "id": "749c0f81",
   "metadata": {},
   "source": [
    "## Printing unique values in each column"
   ]
  },
  {
   "cell_type": "code",
   "execution_count": null,
   "id": "977643de",
   "metadata": {},
   "outputs": [],
   "source": []
  },
  {
   "cell_type": "code",
   "execution_count": null,
   "id": "2f33e5f1",
   "metadata": {},
   "outputs": [
    {
     "name": "stdout",
     "output_type": "stream",
     "text": [
      "company:6464\n",
      "company_public_response:12\n",
      "company_response:9\n",
      "complaint_id:2774363\n",
      "complaint_what_happened:892308\n",
      "consumer_consent_provided:6\n",
      "consumer_disputed:3\n",
      "date_received:3833\n",
      "date_sent_to_company:3834\n",
      "issue:165\n",
      "product:18\n",
      "state:64\n",
      "sub_issue:222\n",
      "sub_product:77\n",
      "submitted_via:7\n",
      "tags:4\n",
      "timely:2\n",
      "zip_code:34118\n"
     ]
    }
   ],
   "source": [
    "for column in df.columns:\n",
    "    print(f\"{column}:{df.select(column).distinct().count()}\")"
   ]
  },
  {
   "cell_type": "code",
   "execution_count": null,
   "id": "730acac6",
   "metadata": {},
   "outputs": [],
   "source": [
    "complaint_table=\"complaint\"\n",
    "df.createOrReplaceTempView(complaint_table)"
   ]
  },
  {
   "cell_type": "code",
   "execution_count": null,
   "id": "a6b72328",
   "metadata": {},
   "outputs": [],
   "source": [
    "sql = spark_session.sql"
   ]
  },
  {
   "cell_type": "code",
   "execution_count": null,
   "id": "49888332",
   "metadata": {},
   "outputs": [],
   "source": [
    "n_row = df.count()"
   ]
  },
  {
   "cell_type": "code",
   "execution_count": null,
   "id": "88b0cd9e",
   "metadata": {},
   "outputs": [
    {
     "name": "stdout",
     "output_type": "stream",
     "text": [
      "+-----------------+-------+\n",
      "|consumer_disputed|  count|\n",
      "+-----------------+-------+\n",
      "|              N/A|2017177|\n",
      "|               No| 621087|\n",
      "|              Yes| 148511|\n",
      "+-----------------+-------+\n",
      "\n"
     ]
    }
   ],
   "source": [
    "#Target column\n",
    "df.groupBy(df.consumer_disputed).count().collect()"
   ]
  },
  {
   "cell_type": "code",
   "execution_count": null,
   "id": "cf2983c9",
   "metadata": {},
   "outputs": [
    {
     "name": "stdout",
     "output_type": "stream",
     "text": [
      "root\n",
      " |-- company: string (nullable = true)\n",
      " |-- company_public_response: string (nullable = true)\n",
      " |-- company_response: string (nullable = true)\n",
      " |-- complaint_id: string (nullable = true)\n",
      " |-- complaint_what_happened: string (nullable = true)\n",
      " |-- consumer_consent_provided: string (nullable = true)\n",
      " |-- consumer_disputed: string (nullable = true)\n",
      " |-- date_received: string (nullable = true)\n",
      " |-- date_sent_to_company: string (nullable = true)\n",
      " |-- issue: string (nullable = true)\n",
      " |-- product: string (nullable = true)\n",
      " |-- state: string (nullable = true)\n",
      " |-- sub_issue: string (nullable = true)\n",
      " |-- sub_product: string (nullable = true)\n",
      " |-- submitted_via: string (nullable = true)\n",
      " |-- tags: string (nullable = true)\n",
      " |-- timely: string (nullable = true)\n",
      " |-- zip_code: string (nullable = true)\n",
      "\n"
     ]
    }
   ],
   "source": [
    "df.printSchema()"
   ]
  },
  {
   "cell_type": "code",
   "execution_count": null,
   "id": "10250914",
   "metadata": {},
   "outputs": [],
   "source": [
    "missing_target_df = sql(f\"select * from {complaint_table} where {df.consumer_disputed} ='N/A' \")"
   ]
  },
  {
   "cell_type": "code",
   "execution_count": null,
   "id": "71745557",
   "metadata": {},
   "outputs": [],
   "source": [
    "df = sql(f\"select * from {complaint_table} where {df.consumer_disputed} <>'N/A' \")"
   ]
  },
  {
   "cell_type": "code",
   "execution_count": null,
   "id": "4d6452a4",
   "metadata": {},
   "outputs": [],
   "source": [
    "complaint_table=\"complaint\"\n",
    "df.createOrReplaceTempView(complaint_table)"
   ]
  },
  {
   "cell_type": "code",
   "execution_count": null,
   "id": "a0c9f29c",
   "metadata": {},
   "outputs": [],
   "source": [
    "update_column_attribute(df)"
   ]
  },
  {
   "cell_type": "code",
   "execution_count": null,
   "id": "ddf7976e",
   "metadata": {},
   "outputs": [],
   "source": []
  },
  {
   "cell_type": "code",
   "execution_count": null,
   "id": "f127913a",
   "metadata": {},
   "outputs": [],
   "source": [
    "\n",
    "def perform_null_analysis(df,table_name):\n",
    "    null_value_analysis=[]\n",
    "    n_row=df.count()\n",
    "    for column in df.columns:\n",
    "        print(column)\n",
    "        response = sql(f\"select {n_row} as  total_row,count(*) as null_row_{column},(count(*)*100)/{n_row} as missing_percentage,'{column}' as  column_name from {table_name} where {column} is null\").collect()\n",
    "        null_value_analysis.append(response)\n",
    "    return null_value_analysis"
   ]
  },
  {
   "cell_type": "code",
   "execution_count": null,
   "id": "0e5d1fd0",
   "metadata": {},
   "outputs": [
    {
     "name": "stdout",
     "output_type": "stream",
     "text": [
      "company\n",
      "company_public_response\n",
      "company_response\n",
      "complaint_id\n",
      "complaint_what_happened\n",
      "consumer_consent_provided\n",
      "consumer_disputed\n",
      "date_received\n",
      "date_sent_to_company\n",
      "issue\n",
      "product\n",
      "state\n",
      "sub_issue\n",
      "sub_product\n",
      "submitted_via\n",
      "tags\n",
      "timely\n",
      "zip_code\n"
     ]
    }
   ],
   "source": [
    "null_report = perform_null_analysis(df,complaint_table)"
   ]
  },
  {
   "cell_type": "code",
   "execution_count": null,
   "id": "3cc7d724",
   "metadata": {},
   "outputs": [],
   "source": [
    "def unwanted_column_by_missing_percentage(null_value_analysis,per_thres=20):\n",
    "    columns= []\n",
    "    for row in null_value_analysis:\n",
    "        row_info=row[0]\n",
    "        if row_info.missing_percentage>per_thres:\n",
    "            print(row_info)\n",
    "            columns.append(row_info.column_name)\n",
    "\n",
    "    return columns\n"
   ]
  },
  {
   "cell_type": "code",
   "execution_count": null,
   "id": "0c04aa04",
   "metadata": {},
   "outputs": [
    {
     "name": "stdout",
     "output_type": "stream",
     "text": [
      "Row(total_row=769598, null_row_company_public_response=572886, missing_percentage=74.4396425146635, column_name='company_public_response')\n",
      "Row(total_row=769598, null_row_sub_issue=454896, missing_percentage=59.10826171585685, column_name='sub_issue')\n",
      "Row(total_row=769598, null_row_sub_product=235106, missing_percentage=30.549195813918434, column_name='sub_product')\n",
      "Row(total_row=769598, null_row_tags=660916, missing_percentage=85.8780818037469, column_name='tags')\n"
     ]
    }
   ],
   "source": [
    "columns = unwanted_column_by_missing_percentage(null_value_analysis=null_report)"
   ]
  },
  {
   "cell_type": "code",
   "execution_count": null,
   "id": "e58cda9a",
   "metadata": {},
   "outputs": [],
   "source": [
    "def drop_column(df,columns):\n",
    "    selected_column = list(filter(lambda x:x not in columns,df.columns))\n",
    "    selected_column = \",\".join(selected_column)\n",
    "    df= sql(f\"select {selected_column}  from {complaint_table} \")\n",
    "    return df"
   ]
  },
  {
   "cell_type": "code",
   "execution_count": null,
   "id": "0391b3bf",
   "metadata": {},
   "outputs": [],
   "source": [
    "df=drop_column(df,columns)"
   ]
  },
  {
   "cell_type": "code",
   "execution_count": null,
   "id": "676e648a",
   "metadata": {},
   "outputs": [
    {
     "name": "stdout",
     "output_type": "stream",
     "text": [
      "company\n",
      "company_response\n",
      "complaint_id\n",
      "complaint_what_happened\n",
      "consumer_consent_provided\n",
      "consumer_disputed\n",
      "date_received\n",
      "date_sent_to_company\n",
      "issue\n",
      "product\n",
      "state\n",
      "submitted_via\n",
      "timely\n",
      "zip_code\n"
     ]
    }
   ],
   "source": [
    "columns = perform_null_analysis(df,complaint_table)"
   ]
  },
  {
   "cell_type": "code",
   "execution_count": null,
   "id": "7a62ddc6",
   "metadata": {},
   "outputs": [
    {
     "data": {
      "text/plain": [
       "[]"
      ]
     },
     "execution_count": 141,
     "metadata": {},
     "output_type": "execute_result"
    }
   ],
   "source": [
    "unwanted_column_by_missing_percentage(columns)"
   ]
  },
  {
   "cell_type": "code",
   "execution_count": null,
   "id": "fc49f2ed",
   "metadata": {},
   "outputs": [],
   "source": [
    "#dropping feature as we have found more than 20% of null value in above columns"
   ]
  },
  {
   "cell_type": "code",
   "execution_count": null,
   "id": "bcfdb6d4",
   "metadata": {},
   "outputs": [
    {
     "name": "stdout",
     "output_type": "stream",
     "text": [
      "+--------------------+--------------------+------------+-----------------------+-------------------------+-----------------+--------------------+--------------------+--------------------+--------------------+-----+-------------+------+--------+\n",
      "|             company|    company_response|complaint_id|complaint_what_happened|consumer_consent_provided|consumer_disputed|       date_received|date_sent_to_company|               issue|             product|state|submitted_via|timely|zip_code|\n",
      "+--------------------+--------------------+------------+-----------------------+-------------------------+-----------------+--------------------+--------------------+--------------------+--------------------+-----+-------------+------+--------+\n",
      "|       EQUIFAX, INC.|Closed with expla...|     2390217|                       |     Consent not provided|               No|2017-03-16T12:00:...|2017-03-17T12:00:...|Credit monitoring...|    Credit reporting|   CT|          Web|   Yes|   06226|\n",
      "|TRANSUNION INTERM...|Closed with expla...|     2333548|                       |     Consent not provided|               No|2017-02-08T12:00:...|2017-02-08T12:00:...|Incorrect informa...|    Credit reporting|   MO|          Web|   Yes|   63134|\n",
      "|TOYOTA MOTOR CRED...|Closed with expla...|     2311694|                       |     Consent not provided|               No|2017-01-25T12:00:...|2017-01-25T12:00:...|Managing the loan...|       Consumer Loan|   CT|          Web|   Yes|   06010|\n",
      "|BANK OF AMERICA, ...|Closed with expla...|     2289573|   around XX/XX/2016...|         Consent provided|              Yes|2017-01-13T12:00:...|2017-01-13T12:00:...|Problems caused b...|Bank account or s...|   CA|          Web|   Yes|   90020|\n",
      "|BANK OF AMERICA, ...|Closed with non-m...|     2320269|                       |                      N/A|               No|2017-01-31T12:00:...|2017-02-07T12:00:...|Loan servicing, p...|            Mortgage|   MN|          Fax|   Yes|   55354|\n",
      "|Optimum Outcomes,...|Closed with expla...|     2277940|                       |                      N/A|              Yes|2017-01-06T12:00:...|2017-01-06T12:00:...|Disclosure verifi...|     Debt collection|   NC|        Phone|   Yes|   28269|\n",
      "|       DISCOVER BANK|Closed with expla...|     2366909|   I received a lett...|         Consent provided|               No|2017-03-01T12:00:...|2017-03-01T12:00:...|Dealing with my l...|        Student loan|   WA|          Web|   Yes|   98030|\n",
      "|Experian Informat...|Closed with expla...|     2351548|   I found that my i...|         Consent provided|               No|2017-02-19T12:00:...|2017-02-19T12:00:...|Incorrect informa...|    Credit reporting|   CA|          Web|   Yes|   95131|\n",
      "|       EQUIFAX, INC.|Closed with expla...|     2346351|   To Credit dispute...|         Consent provided|               No|2017-02-15T12:00:...|2017-02-15T12:00:...|Incorrect informa...|    Credit reporting|   PA|          Web|   Yes|   19465|\n",
      "|WELLS FARGO & COM...|Closed with expla...|     2394504|   We had a mortgage...|         Consent provided|              Yes|2017-03-20T12:00:...|2017-03-21T12:00:...|Loan servicing, p...|            Mortgage|   GA|          Web|   Yes|   30011|\n",
      "|Nicholas Financia...|Closed with expla...|     2374849|   I purchase a car ...|         Consent provided|               No|2017-03-08T12:00:...|2017-03-10T12:00:...|Taking out the lo...|       Consumer Loan|   TN|          Web|   Yes|   37217|\n",
      "|CNG FINANCIAL COR...|Closed with expla...|     2343822|                       |                    Other|              Yes|2017-02-14T12:00:...|2017-02-17T12:00:...|Charged fees or i...|         Payday loan|   DE|          Web|   Yes|   19943|\n",
      "|SELECT PORTFOLIO ...|Closed with expla...|     2349872|                       |                      N/A|               No|2017-02-17T12:00:...|2017-02-23T12:00:...|Loan modification...|            Mortgage|   RI|        Phone|   Yes|   02863|\n",
      "|JPMORGAN CHASE & CO.|Closed with monet...|     2357309|                       |                      N/A|              Yes|2017-02-23T12:00:...|2017-02-28T12:00:...|Account opening, ...|Bank account or s...|   IL|     Referral|   Yes|   60442|\n",
      "|   I.C. System, Inc.|Closed with expla...|     2326742|                       |     Consent not provided|               No|2017-02-03T12:00:...|2017-02-07T12:00:...|Cont'd attempts c...|     Debt collection|   GA|          Web|   Yes|   30101|\n",
      "|        Nelnet, Inc.|Closed with expla...|     2315338|   I have reported n...|         Consent provided|              Yes|2017-01-27T12:00:...|2017-01-27T12:00:...|Dealing with my l...|        Student loan|   GA|          Web|   Yes|   30168|\n",
      "|STERLING JEWELERS...|Closed with expla...|     2327089|                       |     Consent not provided|               No|2017-02-03T12:00:...|2017-02-03T12:00:...|Disclosure verifi...|     Debt collection|   IL|          Web|   Yes|   60473|\n",
      "|   Credit Karma, LLC|Closed with expla...|     2283771|                       |     Consent not provided|               No|2017-01-11T12:00:...|2017-01-12T12:00:...|Incorrect informa...|    Credit reporting|   ID|          Web|   Yes|   83651|\n",
      "|BANK OF AMERICA, ...|Closed with expla...|     2341110|                       |     Consent not provided|               No|2017-02-14T12:00:...|2017-02-14T12:00:...|Credit decision /...|            Mortgage|   KS|          Web|   Yes|   66617|\n",
      "|       PNC Bank N.A.|Closed with expla...|     2302486|   I completed gradu...|         Consent provided|               No|2017-01-21T12:00:...|2017-01-21T12:00:...|Dealing with my l...|        Student loan|   TX|          Web|   Yes|   75401|\n",
      "+--------------------+--------------------+------------+-----------------------+-------------------------+-----------------+--------------------+--------------------+--------------------+--------------------+-----+-------------+------+--------+\n",
      "only showing top 20 rows\n",
      "\n"
     ]
    }
   ],
   "source": [
    "df.collect()"
   ]
  },
  {
   "cell_type": "code",
   "execution_count": null,
   "id": "2dbc6335",
   "metadata": {},
   "outputs": [
    {
     "name": "stdout",
     "output_type": "stream",
     "text": [
      "Total number of row: 769598\n"
     ]
    }
   ],
   "source": [
    "## Unique values in each columns\n",
    "\n"
   ]
  },
  {
   "cell_type": "code",
   "execution_count": null,
   "id": "00171642",
   "metadata": {},
   "outputs": [
    {
     "name": "stdout",
     "output_type": "stream",
     "text": [
      "company:4284\n",
      "company_response:7\n",
      "complaint_id:765945\n",
      "complaint_what_happened:160969\n",
      "consumer_consent_provided:6\n",
      "consumer_disputed:2\n",
      "date_received:1940\n",
      "date_sent_to_company:2024\n",
      "issue:99\n",
      "product:13\n",
      "state:63\n",
      "submitted_via:6\n",
      "timely:2\n",
      "zip_code:28717\n"
     ]
    }
   ],
   "source": [
    "print(f\"Total number of row: {df.count()}\")\n",
    "for column in df.columns:\n",
    "    print(f\"{column}:{df.select(column).distinct().count()}\")"
   ]
  },
  {
   "cell_type": "code",
   "execution_count": null,
   "id": "d6d385d9",
   "metadata": {},
   "outputs": [],
   "source": [
    "update_column_attribute(df)"
   ]
  },
  {
   "cell_type": "code",
   "execution_count": null,
   "id": "0ce67c75",
   "metadata": {},
   "outputs": [],
   "source": [
    "df=drop_column(df,columns=[df.complaint_id])"
   ]
  },
  {
   "cell_type": "code",
   "execution_count": null,
   "id": "0c003d63",
   "metadata": {},
   "outputs": [],
   "source": [
    "update_column_attribute(df)"
   ]
  },
  {
   "cell_type": "code",
   "execution_count": null,
   "id": "36e42af6",
   "metadata": {},
   "outputs": [
    {
     "name": "stdout",
     "output_type": "stream",
     "text": [
      "root\n",
      " |-- company: string (nullable = true)\n",
      " |-- company_response: string (nullable = true)\n",
      " |-- complaint_what_happened: string (nullable = true)\n",
      " |-- consumer_consent_provided: string (nullable = true)\n",
      " |-- consumer_disputed: string (nullable = true)\n",
      " |-- date_received: string (nullable = true)\n",
      " |-- date_sent_to_company: string (nullable = true)\n",
      " |-- issue: string (nullable = true)\n",
      " |-- product: string (nullable = true)\n",
      " |-- state: string (nullable = true)\n",
      " |-- submitted_via: string (nullable = true)\n",
      " |-- timely: string (nullable = true)\n",
      " |-- zip_code: string (nullable = true)\n",
      "\n"
     ]
    }
   ],
   "source": [
    "df.printSchema()"
   ]
  },
  {
   "cell_type": "code",
   "execution_count": null,
   "id": "f26049c0",
   "metadata": {},
   "outputs": [
    {
     "name": "stdout",
     "output_type": "stream",
     "text": [
      "Total number of row: 769598\n",
      "company:4284\n",
      "company_response:7\n",
      "complaint_what_happened:160969\n",
      "consumer_consent_provided:6\n",
      "consumer_disputed:2\n",
      "date_received:1940\n",
      "date_sent_to_company:2024\n",
      "issue:99\n",
      "product:13\n",
      "state:63\n",
      "submitted_via:6\n",
      "timely:2\n",
      "zip_code:28717\n"
     ]
    }
   ],
   "source": [
    "print(f\"Total number of row: {df.count()}\")\n",
    "for column in df.columns:\n",
    "    print(f\"{column}:{df.select(column).distinct().count()}\")"
   ]
  },
  {
   "cell_type": "code",
   "execution_count": null,
   "id": "759822a6",
   "metadata": {},
   "outputs": [
    {
     "name": "stdout",
     "output_type": "stream",
     "text": [
      "+--------------------+------+\n",
      "|    company_response| count|\n",
      "+--------------------+------+\n",
      "|   Untimely response|  2901|\n",
      "|Closed with non-m...| 95968|\n",
      "|Closed with monet...| 51597|\n",
      "|Closed with expla...|580728|\n",
      "|              Closed| 17691|\n",
      "|Closed without re...| 16061|\n",
      "|  Closed with relief|  4652|\n",
      "+--------------------+------+\n",
      "\n",
      "+-------------------------+------+\n",
      "|consumer_consent_provided| count|\n",
      "+-------------------------+------+\n",
      "|                     null|    38|\n",
      "|        Consent withdrawn|     8|\n",
      "|                    Other|  8492|\n",
      "|         Consent provided|164887|\n",
      "|     Consent not provided|125995|\n",
      "|                      N/A|470178|\n",
      "+-------------------------+------+\n",
      "\n",
      "+-----------------+------+\n",
      "|consumer_disputed| count|\n",
      "+-----------------+------+\n",
      "|               No|621087|\n",
      "|              Yes|148511|\n",
      "+-----------------+------+\n",
      "\n",
      "+--------------------+------+\n",
      "|             product| count|\n",
      "+--------------------+------+\n",
      "|     Debt collection|146584|\n",
      "|    Virtual currency|    18|\n",
      "|         Payday loan|  5580|\n",
      "|     Money transfers|  5387|\n",
      "|Checking or savin...|     3|\n",
      "|            Mortgage|226616|\n",
      "|        Prepaid card|  3833|\n",
      "|    Credit reporting|141194|\n",
      "|       Consumer Loan| 31756|\n",
      "|         Credit card| 88332|\n",
      "|Bank account or s...| 86578|\n",
      "|Other financial s...|  1062|\n",
      "|        Student loan| 32655|\n",
      "+--------------------+------+\n",
      "\n",
      "+-------------+------+\n",
      "|submitted_via| count|\n",
      "+-------------+------+\n",
      "|        Phone| 52203|\n",
      "|          Fax| 10971|\n",
      "|     Referral|132923|\n",
      "|  Postal mail| 48924|\n",
      "|          Web|524238|\n",
      "|        Email|   339|\n",
      "+-------------+------+\n",
      "\n",
      "+------+------+\n",
      "|timely| count|\n",
      "+------+------+\n",
      "|    No| 21331|\n",
      "|   Yes|748267|\n",
      "+------+------+\n",
      "\n"
     ]
    }
   ],
   "source": [
    "df.groupBy(df.company_response).count().show()\n",
    "df.groupBy(df.consumer_consent_provided).count().show()\n",
    "df.groupBy(df.consumer_disputed).count().show()\n",
    "df.groupBy(df.product).count().show()\n",
    "df.groupBy(df.submitted_via).count().show()\n",
    "df.groupBy(df.timely).count().show()\n"
   ]
  },
  {
   "cell_type": "code",
   "execution_count": null,
   "id": "db256ae5",
   "metadata": {},
   "outputs": [
    {
     "data": {
      "text/plain": [
       "[Row(timely='No', count=21331), Row(timely='Yes', count=748267)]"
      ]
     },
     "execution_count": 156,
     "metadata": {},
     "output_type": "execute_result"
    }
   ],
   "source": [
    "\n",
    "df.groupBy(df.company_response).count().collect()\n",
    "df.groupBy(df.consumer_consent_provided).count().collect()\n",
    "df.groupBy(df.consumer_disputed).count().collect()\n",
    "df.groupBy(df.product).count().collect()\n",
    "df.groupBy(df.submitted_via).count().collect()\n",
    "df.groupBy(df.timely).count().collect()\n"
   ]
  },
  {
   "cell_type": "code",
   "execution_count": null,
   "id": "3d102565",
   "metadata": {},
   "outputs": [
    {
     "data": {
      "text/plain": [
       "[Row(product='Debt collection', count=146584),\n",
       " Row(product='Virtual currency', count=18),\n",
       " Row(product='Payday loan', count=5580),\n",
       " Row(product='Money transfers', count=5387),\n",
       " Row(product='Checking or savings account', count=3),\n",
       " Row(product='Mortgage', count=226616),\n",
       " Row(product='Prepaid card', count=3833),\n",
       " Row(product='Credit reporting', count=141194),\n",
       " Row(product='Consumer Loan', count=31756),\n",
       " Row(product='Credit card', count=88332),\n",
       " Row(product='Bank account or service', count=86578),\n",
       " Row(product='Other financial service', count=1062),\n",
       " Row(product='Student loan', count=32655)]"
      ]
     },
     "execution_count": 158,
     "metadata": {},
     "output_type": "execute_result"
    }
   ],
   "source": [
    "df.groupBy(df.product).count().collect()"
   ]
  },
  {
   "cell_type": "code",
   "execution_count": null,
   "id": "7d6ea4b1",
   "metadata": {},
   "outputs": [],
   "source": [
    "ONE_HOT_FEATURE = [df.company_response,df.consumer_consent_provided,df.submitted_via,df.timely]\n",
    "BINARY_ENCODING = [df.product,]\n",
    "TARGET_FEATURE = [df.consumer_disputed]\n",
    "\n",
    "#df.company_response No null value\n",
    "#df.consumer_consent_provided  replace null with top category \n",
    "#df.consumer_disputed target feature label encoding\n",
    "#df.product one hot encoding \n",
    "\n",
    "#df.product no null value\n"
   ]
  },
  {
   "cell_type": "code",
   "execution_count": null,
   "id": "9fa1ae93",
   "metadata": {},
   "outputs": [],
   "source": [
    "remaining_column = list(filter(lambda x: x not in ONE_HOT_FEATURE+BINARY_ENCODING+TARGET_FEATURE,df.columns))"
   ]
  },
  {
   "cell_type": "code",
   "execution_count": null,
   "id": "fcdfba52",
   "metadata": {},
   "outputs": [
    {
     "data": {
      "text/plain": [
       "['company',\n",
       " 'complaint_what_happened',\n",
       " 'date_received',\n",
       " 'date_sent_to_company',\n",
       " 'issue',\n",
       " 'state',\n",
       " 'zip_code']"
      ]
     },
     "execution_count": 163,
     "metadata": {},
     "output_type": "execute_result"
    }
   ],
   "source": [
    "remaining_column"
   ]
  },
  {
   "cell_type": "code",
   "execution_count": null,
   "id": "3a4bb1d0",
   "metadata": {},
   "outputs": [
    {
     "data": {
      "text/plain": [
       "4284"
      ]
     },
     "execution_count": 169,
     "metadata": {},
     "output_type": "execute_result"
    }
   ],
   "source": [
    "df.groupBy(df.company).count().count()"
   ]
  },
  {
   "cell_type": "code",
   "execution_count": null,
   "id": "4217b1f2",
   "metadata": {},
   "outputs": [],
   "source": [
    "FREQUENCY_ENCODING = [df.company]"
   ]
  },
  {
   "cell_type": "code",
   "execution_count": null,
   "id": "9f3c56cd",
   "metadata": {},
   "outputs": [
    {
     "data": {
      "text/plain": [
       "0"
      ]
     },
     "execution_count": 180,
     "metadata": {},
     "output_type": "execute_result"
    }
   ],
   "source": [
    "df.select(df.company).count()-df.select(df.company).dropna().count()\n"
   ]
  },
  {
   "cell_type": "code",
   "execution_count": null,
   "id": "360ba179",
   "metadata": {},
   "outputs": [],
   "source": [
    "REPLACE_NULL_WITH_TOP_VALUE = [df.zip_code,df.state,df.consumer_consent_provided]"
   ]
  },
  {
   "cell_type": "code",
   "execution_count": null,
   "id": "37d2e0ea",
   "metadata": {},
   "outputs": [
    {
     "data": {
      "text/plain": [
       "['zip_code', 'state', 'consumer_consent_provided']"
      ]
     },
     "execution_count": 188,
     "metadata": {},
     "output_type": "execute_result"
    }
   ],
   "source": [
    "REPLACE_NULL_WITH_TOP_VALUE"
   ]
  },
  {
   "cell_type": "code",
   "execution_count": null,
   "id": "922414e0",
   "metadata": {},
   "outputs": [
    {
     "name": "stdout",
     "output_type": "stream",
     "text": [
      "Total number of row: 769598\n",
      "company:  4284\n",
      "complaint_what_happened:  160969\n",
      "date_received:  1940\n",
      "date_sent_to_company:  2024\n",
      "issue:  99\n",
      "state:  63\n",
      "zip_code:  28717\n"
     ]
    }
   ],
   "source": [
    "print(f\"Total number of row: {df.count()}\")\n",
    "for column in remaining_column:\n",
    "    print(f\"{column}:  {df.select(column).distinct().count()}\")"
   ]
  },
  {
   "cell_type": "code",
   "execution_count": null,
   "id": "32c7f06a",
   "metadata": {},
   "outputs": [],
   "source": []
  },
  {
   "cell_type": "code",
   "execution_count": null,
   "id": "bf773bf4",
   "metadata": {},
   "outputs": [],
   "source": []
  },
  {
   "cell_type": "code",
   "execution_count": null,
   "id": "cf48971b",
   "metadata": {},
   "outputs": [
    {
     "name": "stdout",
     "output_type": "stream",
     "text": [
      "+--------------------+------+\n",
      "|               issue| count|\n",
      "+--------------------+------+\n",
      "|Communication tac...| 23965|\n",
      "|Application proce...|   536|\n",
      "|Advertising and m...|  2948|\n",
      "|Balance transfer fee|   216|\n",
      "|Customer service/...|   284|\n",
      "|        Adding money|   202|\n",
      "|Closing/Cancellin...|  6345|\n",
      "|Credit card prote...|  2701|\n",
      "|Received a loan I...|   619|\n",
      "|Can't stop charge...|   515|\n",
      "|          Bankruptcy|   447|\n",
      "|                Fees|   234|\n",
      "|Forbearance / Wor...|   550|\n",
      "|Credit determination|  3016|\n",
      "|Loan modification...|112115|\n",
      "|    Cash advance fee|   193|\n",
      "|Other transaction...|  1501|\n",
      "|Customer service ...|  3491|\n",
      "|      Getting a loan|   666|\n",
      "|  Delinquent account|  3224|\n",
      "+--------------------+------+\n",
      "only showing top 20 rows\n",
      "\n"
     ]
    }
   ],
   "source": [
    "df.groupBy(df.issue).count().show()"
   ]
  },
  {
   "cell_type": "code",
   "execution_count": null,
   "id": "54c24769",
   "metadata": {},
   "outputs": [
    {
     "data": {
      "text/plain": [
       "['company',\n",
       " 'complaint_what_happened',\n",
       " 'date_received',\n",
       " 'date_sent_to_company',\n",
       " 'issue',\n",
       " 'state',\n",
       " 'zip_code']"
      ]
     },
     "execution_count": 192,
     "metadata": {},
     "output_type": "execute_result"
    }
   ],
   "source": [
    "remaining_column"
   ]
  },
  {
   "cell_type": "code",
   "execution_count": null,
   "id": "0c8a116f",
   "metadata": {},
   "outputs": [
    {
     "ename": "IndexError",
     "evalue": "list index out of range",
     "output_type": "error",
     "traceback": [
      "\u001b[0;31m---------------------------------------------------------------------------\u001b[0m",
      "\u001b[0;31mIndexError\u001b[0m                                Traceback (most recent call last)",
      "\u001b[0;32m/tmp/ipykernel_953/929814822.py\u001b[0m in \u001b[0;36m<module>\u001b[0;34m\u001b[0m\n\u001b[0;32m----> 1\u001b[0;31m \u001b[0mdf\u001b[0m\u001b[0;34m.\u001b[0m\u001b[0mselect\u001b[0m\u001b[0;34m(\u001b[0m\u001b[0mdf\u001b[0m\u001b[0;34m.\u001b[0m\u001b[0mcomplaint_what_happened\u001b[0m\u001b[0;34m)\u001b[0m\u001b[0;34m[\u001b[0m\u001b[0;36m3\u001b[0m\u001b[0;34m]\u001b[0m\u001b[0;34m.\u001b[0m\u001b[0mcollect\u001b[0m\u001b[0;34m(\u001b[0m\u001b[0;34m)\u001b[0m\u001b[0;34m\u001b[0m\u001b[0m\n\u001b[0m",
      "\u001b[0;32m~/work/venv/lib/python3.7/site-packages/pyspark/sql/dataframe.py\u001b[0m in \u001b[0;36m__getitem__\u001b[0;34m(self, item)\u001b[0m\n\u001b[1;32m   1641\u001b[0m             \u001b[0;32mreturn\u001b[0m \u001b[0mself\u001b[0m\u001b[0;34m.\u001b[0m\u001b[0mselect\u001b[0m\u001b[0;34m(\u001b[0m\u001b[0;34m*\u001b[0m\u001b[0mitem\u001b[0m\u001b[0;34m)\u001b[0m\u001b[0;34m\u001b[0m\u001b[0m\n\u001b[1;32m   1642\u001b[0m         \u001b[0;32melif\u001b[0m \u001b[0misinstance\u001b[0m\u001b[0;34m(\u001b[0m\u001b[0mitem\u001b[0m\u001b[0;34m,\u001b[0m \u001b[0mint\u001b[0m\u001b[0;34m)\u001b[0m\u001b[0;34m:\u001b[0m\u001b[0;34m\u001b[0m\u001b[0m\n\u001b[0;32m-> 1643\u001b[0;31m             \u001b[0mjc\u001b[0m \u001b[0;34m=\u001b[0m \u001b[0mself\u001b[0m\u001b[0;34m.\u001b[0m\u001b[0m_jdf\u001b[0m\u001b[0;34m.\u001b[0m\u001b[0mapply\u001b[0m\u001b[0;34m(\u001b[0m\u001b[0mself\u001b[0m\u001b[0;34m.\u001b[0m\u001b[0mcolumns\u001b[0m\u001b[0;34m[\u001b[0m\u001b[0mitem\u001b[0m\u001b[0;34m]\u001b[0m\u001b[0;34m)\u001b[0m\u001b[0;34m\u001b[0m\u001b[0m\n\u001b[0m\u001b[1;32m   1644\u001b[0m             \u001b[0;32mreturn\u001b[0m \u001b[0mColumn\u001b[0m\u001b[0;34m(\u001b[0m\u001b[0mjc\u001b[0m\u001b[0;34m)\u001b[0m\u001b[0;34m\u001b[0m\u001b[0m\n\u001b[1;32m   1645\u001b[0m         \u001b[0;32melse\u001b[0m\u001b[0;34m:\u001b[0m\u001b[0;34m\u001b[0m\u001b[0m\n",
      "\u001b[0;31mIndexError\u001b[0m: list index out of range"
     ]
    }
   ],
   "source": [
    "df.select(df.complaint_what_happened)[3].collect()"
   ]
  },
  {
   "cell_type": "code",
   "execution_count": null,
   "id": "73dd4f4a",
   "metadata": {},
   "outputs": [
    {
     "data": {
      "text/plain": [
       "[Row(complaint_what_happened=''),\n",
       " Row(complaint_what_happened=''),\n",
       " Row(complaint_what_happened=''),\n",
       " Row(complaint_what_happened='around XX/XX/2016 i got a check from tenant. I am a XXXX and I accept a check from him after that i found bedbugs that he brought from work. \\nI have to give him notice for moving because my apartment had a carpet floor. \\nMy roommate got a problem and moving out. and he also gave me a checked and cash in the same time. I after that time i got that the checked was report for lost. \\nand Fraud also. Bank of America close my account and report me I am a thief and fraud with check. I have a paper that give him to sign and let him know about the payment after he left for bedbugs treatment. I need bank of America resolve this problem that i am a XXXX that he used to lived before he changed the address. i can proof with letter that he report that was lost. but its not he was lie to bank. Cheating on my with the checked.'),\n",
       " Row(complaint_what_happened='')]"
      ]
     },
     "execution_count": 197,
     "metadata": {},
     "output_type": "execute_result"
    }
   ],
   "source": [
    "sql(f\"select {df.complaint_what_happened} from {complaint_table} limit 5\").collect()"
   ]
  },
  {
   "cell_type": "code",
   "execution_count": null,
   "id": "dab86a34",
   "metadata": {},
   "outputs": [],
   "source": [
    "TOKENIZER_FEATURE = [df.complaint_what_happened]"
   ]
  },
  {
   "cell_type": "code",
   "execution_count": null,
   "id": "da4140cb",
   "metadata": {},
   "outputs": [
    {
     "data": {
      "text/plain": [
       "['company_response', 'consumer_consent_provided', 'submitted_via', 'timely']"
      ]
     },
     "execution_count": 199,
     "metadata": {},
     "output_type": "execute_result"
    }
   ],
   "source": [
    "ONE_HOT_FEATURE"
   ]
  },
  {
   "cell_type": "code",
   "execution_count": null,
   "id": "1296621a",
   "metadata": {},
   "outputs": [],
   "source": [
    "FREQUENCY_ENCODING = [df.company,df.issue,df.state,df.zip_code]"
   ]
  },
  {
   "cell_type": "code",
   "execution_count": null,
   "id": "6eccb5cc",
   "metadata": {},
   "outputs": [
    {
     "data": {
      "text/plain": [
       "['consumer_disputed']"
      ]
     },
     "execution_count": 201,
     "metadata": {},
     "output_type": "execute_result"
    }
   ],
   "source": [
    "TARGET_FEATURE"
   ]
  },
  {
   "cell_type": "code",
   "execution_count": null,
   "id": "96a43538",
   "metadata": {},
   "outputs": [
    {
     "data": {
      "text/plain": [
       "['complaint_what_happened']"
      ]
     },
     "execution_count": 202,
     "metadata": {},
     "output_type": "execute_result"
    }
   ],
   "source": [
    "TOKENIZER_FEATURE"
   ]
  },
  {
   "cell_type": "code",
   "execution_count": null,
   "id": "3497fe2f",
   "metadata": {},
   "outputs": [],
   "source": []
  },
  {
   "cell_type": "code",
   "execution_count": null,
   "id": "b38fc0a8",
   "metadata": {},
   "outputs": [
    {
     "data": {
      "text/plain": [
       "['company',\n",
       " 'complaint_what_happened',\n",
       " 'date_received',\n",
       " 'date_sent_to_company',\n",
       " 'issue',\n",
       " 'state',\n",
       " 'zip_code']"
      ]
     },
     "execution_count": 203,
     "metadata": {},
     "output_type": "execute_result"
    }
   ],
   "source": [
    "remaining_column"
   ]
  },
  {
   "cell_type": "code",
   "execution_count": null,
   "id": "81c1eca6",
   "metadata": {},
   "outputs": [],
   "source": [
    "from pyspark.sql.types import TimestampType"
   ]
  },
  {
   "cell_type": "code",
   "execution_count": null,
   "id": "be393969",
   "metadata": {},
   "outputs": [],
   "source": [
    "df=df.withColumn(df.date_received,col(df.date_received).cast(TimestampType()))"
   ]
  },
  {
   "cell_type": "code",
   "execution_count": null,
   "id": "08d0c771",
   "metadata": {},
   "outputs": [],
   "source": [
    "update_column_attribute(df)"
   ]
  },
  {
   "cell_type": "code",
   "execution_count": null,
   "id": "7cca91ab",
   "metadata": {},
   "outputs": [
    {
     "name": "stdout",
     "output_type": "stream",
     "text": [
      "root\n",
      " |-- company: string (nullable = true)\n",
      " |-- company_response: string (nullable = true)\n",
      " |-- complaint_what_happened: string (nullable = true)\n",
      " |-- consumer_consent_provided: string (nullable = true)\n",
      " |-- consumer_disputed: string (nullable = true)\n",
      " |-- date_received: timestamp (nullable = true)\n",
      " |-- date_sent_to_company: timestamp (nullable = true)\n",
      " |-- issue: string (nullable = true)\n",
      " |-- product: string (nullable = true)\n",
      " |-- state: string (nullable = true)\n",
      " |-- submitted_via: string (nullable = true)\n",
      " |-- timely: string (nullable = true)\n",
      " |-- zip_code: string (nullable = true)\n",
      "\n"
     ]
    }
   ],
   "source": [
    "df=df.withColumn(df.date_sent_to_company,col(df.date_sent_to_company).cast(TimestampType()))\n",
    "df.printSchema()"
   ]
  },
  {
   "cell_type": "code",
   "execution_count": null,
   "id": "881201eb",
   "metadata": {},
   "outputs": [
    {
     "name": "stdout",
     "output_type": "stream",
     "text": [
      "+-------------------+--------------------+\n",
      "|      date_received|date_sent_to_company|\n",
      "+-------------------+--------------------+\n",
      "|2017-03-16 17:00:00| 2017-03-17 17:00:00|\n",
      "|2017-02-08 17:00:00| 2017-02-08 17:00:00|\n",
      "|2017-01-25 17:00:00| 2017-01-25 17:00:00|\n",
      "|2017-01-13 17:00:00| 2017-01-13 17:00:00|\n",
      "|2017-01-31 17:00:00| 2017-02-07 17:00:00|\n",
      "|2017-01-06 17:00:00| 2017-01-06 17:00:00|\n",
      "|2017-03-01 17:00:00| 2017-03-01 17:00:00|\n",
      "|2017-02-19 17:00:00| 2017-02-19 17:00:00|\n",
      "|2017-02-15 17:00:00| 2017-02-15 17:00:00|\n",
      "|2017-03-20 17:00:00| 2017-03-21 17:00:00|\n",
      "|2017-03-08 17:00:00| 2017-03-10 17:00:00|\n",
      "|2017-02-14 17:00:00| 2017-02-17 17:00:00|\n",
      "|2017-02-17 17:00:00| 2017-02-23 17:00:00|\n",
      "|2017-02-23 17:00:00| 2017-02-28 17:00:00|\n",
      "|2017-02-03 17:00:00| 2017-02-07 17:00:00|\n",
      "|2017-01-27 17:00:00| 2017-01-27 17:00:00|\n",
      "|2017-02-03 17:00:00| 2017-02-03 17:00:00|\n",
      "|2017-01-11 17:00:00| 2017-01-12 17:00:00|\n",
      "|2017-02-14 17:00:00| 2017-02-14 17:00:00|\n",
      "|2017-01-21 17:00:00| 2017-01-21 17:00:00|\n",
      "+-------------------+--------------------+\n",
      "only showing top 20 rows\n",
      "\n"
     ]
    }
   ],
   "source": [
    "df.select([df.date_received,df.date_sent_to_company]).show()"
   ]
  },
  {
   "cell_type": "code",
   "execution_count": null,
   "id": "57f2d972",
   "metadata": {},
   "outputs": [],
   "source": [
    "from pyspark.sql.types import  LongType"
   ]
  },
  {
   "cell_type": "code",
   "execution_count": null,
   "id": "c98ba13e",
   "metadata": {},
   "outputs": [],
   "source": [
    "df = df.withColumn(\"diff_in_days\",(col(df.date_sent_to_company).cast(LongType())-col(df.date_received).cast(LongType()))/(60*60*24))"
   ]
  },
  {
   "cell_type": "code",
   "execution_count": null,
   "id": "dbbd6dff",
   "metadata": {},
   "outputs": [],
   "source": [
    "update_column_attribute(df)"
   ]
  },
  {
   "cell_type": "code",
   "execution_count": null,
   "id": "3acab1eb",
   "metadata": {},
   "outputs": [],
   "source": [
    "remove_column = [df.date_received,df.date_sent_to_company]"
   ]
  },
  {
   "cell_type": "code",
   "execution_count": null,
   "id": "47bcedf8",
   "metadata": {},
   "outputs": [
    {
     "name": "stdout",
     "output_type": "stream",
     "text": [
      "+--------------------+--------------------+-----------------------+-------------------------+-----------------+--------------------+--------------------+-----+-------------+------+--------+------------+\n",
      "|             company|    company_response|complaint_what_happened|consumer_consent_provided|consumer_disputed|               issue|             product|state|submitted_via|timely|zip_code|diff_in_days|\n",
      "+--------------------+--------------------+-----------------------+-------------------------+-----------------+--------------------+--------------------+-----+-------------+------+--------+------------+\n",
      "|       EQUIFAX, INC.|Closed with expla...|                       |     Consent not provided|               No|Credit monitoring...|    Credit reporting|   CT|          Web|   Yes|   06226|         1.0|\n",
      "|TRANSUNION INTERM...|Closed with expla...|                       |     Consent not provided|               No|Incorrect informa...|    Credit reporting|   MO|          Web|   Yes|   63134|         0.0|\n",
      "|TOYOTA MOTOR CRED...|Closed with expla...|                       |     Consent not provided|               No|Managing the loan...|       Consumer Loan|   CT|          Web|   Yes|   06010|         0.0|\n",
      "|BANK OF AMERICA, ...|Closed with expla...|   around XX/XX/2016...|         Consent provided|              Yes|Problems caused b...|Bank account or s...|   CA|          Web|   Yes|   90020|         0.0|\n",
      "|BANK OF AMERICA, ...|Closed with non-m...|                       |                      N/A|               No|Loan servicing, p...|            Mortgage|   MN|          Fax|   Yes|   55354|         7.0|\n",
      "|Optimum Outcomes,...|Closed with expla...|                       |                      N/A|              Yes|Disclosure verifi...|     Debt collection|   NC|        Phone|   Yes|   28269|         0.0|\n",
      "|       DISCOVER BANK|Closed with expla...|   I received a lett...|         Consent provided|               No|Dealing with my l...|        Student loan|   WA|          Web|   Yes|   98030|         0.0|\n",
      "|Experian Informat...|Closed with expla...|   I found that my i...|         Consent provided|               No|Incorrect informa...|    Credit reporting|   CA|          Web|   Yes|   95131|         0.0|\n",
      "|       EQUIFAX, INC.|Closed with expla...|   To Credit dispute...|         Consent provided|               No|Incorrect informa...|    Credit reporting|   PA|          Web|   Yes|   19465|         0.0|\n",
      "|WELLS FARGO & COM...|Closed with expla...|   We had a mortgage...|         Consent provided|              Yes|Loan servicing, p...|            Mortgage|   GA|          Web|   Yes|   30011|         1.0|\n",
      "|Nicholas Financia...|Closed with expla...|   I purchase a car ...|         Consent provided|               No|Taking out the lo...|       Consumer Loan|   TN|          Web|   Yes|   37217|         2.0|\n",
      "|CNG FINANCIAL COR...|Closed with expla...|                       |                    Other|              Yes|Charged fees or i...|         Payday loan|   DE|          Web|   Yes|   19943|         3.0|\n",
      "|SELECT PORTFOLIO ...|Closed with expla...|                       |                      N/A|               No|Loan modification...|            Mortgage|   RI|        Phone|   Yes|   02863|         6.0|\n",
      "|JPMORGAN CHASE & CO.|Closed with monet...|                       |                      N/A|              Yes|Account opening, ...|Bank account or s...|   IL|     Referral|   Yes|   60442|         5.0|\n",
      "|   I.C. System, Inc.|Closed with expla...|                       |     Consent not provided|               No|Cont'd attempts c...|     Debt collection|   GA|          Web|   Yes|   30101|         4.0|\n",
      "|        Nelnet, Inc.|Closed with expla...|   I have reported n...|         Consent provided|              Yes|Dealing with my l...|        Student loan|   GA|          Web|   Yes|   30168|         0.0|\n",
      "|STERLING JEWELERS...|Closed with expla...|                       |     Consent not provided|               No|Disclosure verifi...|     Debt collection|   IL|          Web|   Yes|   60473|         0.0|\n",
      "|   Credit Karma, LLC|Closed with expla...|                       |     Consent not provided|               No|Incorrect informa...|    Credit reporting|   ID|          Web|   Yes|   83651|         1.0|\n",
      "|BANK OF AMERICA, ...|Closed with expla...|                       |     Consent not provided|               No|Credit decision /...|            Mortgage|   KS|          Web|   Yes|   66617|         0.0|\n",
      "|       PNC Bank N.A.|Closed with expla...|   I completed gradu...|         Consent provided|               No|Dealing with my l...|        Student loan|   TX|          Web|   Yes|   75401|         0.0|\n",
      "+--------------------+--------------------+-----------------------+-------------------------+-----------------+--------------------+--------------------+-----+-------------+------+--------+------------+\n",
      "only showing top 20 rows\n",
      "\n"
     ]
    }
   ],
   "source": [
    "df=df.drop(col(df.date_received)).drop(col(df.date_sent_to_company))"
   ]
  },
  {
   "cell_type": "code",
   "execution_count": null,
   "id": "fd111eca",
   "metadata": {},
   "outputs": [
    {
     "data": {
      "text/plain": [
       "['company_response',\n",
       " 'consumer_consent_provided',\n",
       " 'submitted_via',\n",
       " 'timely',\n",
       " 'company',\n",
       " 'issue',\n",
       " 'state',\n",
       " 'zip_code',\n",
       " 'issue',\n",
       " 'consumer_disputed']"
      ]
     },
     "execution_count": 249,
     "metadata": {},
     "output_type": "execute_result"
    }
   ],
   "source": [
    "NUMERICAL_FEATURE = [df.diff_in_days,]\n",
    "ONE_HOT_FEATURE+\\\n",
    "FREQUENCY_ENCODING+\\\n",
    "BINARY_ENCODING+\\\n",
    "TARGET_FEATURE"
   ]
  },
  {
   "cell_type": "code",
   "execution_count": null,
   "id": "a0426f7c",
   "metadata": {},
   "outputs": [
    {
     "data": {
      "text/plain": [
       "['issue']"
      ]
     },
     "execution_count": 250,
     "metadata": {},
     "output_type": "execute_result"
    }
   ],
   "source": [
    "BINARY_ENCODING"
   ]
  },
  {
   "cell_type": "code",
   "execution_count": null,
   "id": "bfc23f16",
   "metadata": {},
   "outputs": [],
   "source": [
    "FREQUENCY_ENCODING=FREQUENCY_ENCODING+BINARY_ENCODING"
   ]
  },
  {
   "cell_type": "code",
   "execution_count": null,
   "id": "c602a709",
   "metadata": {},
   "outputs": [],
   "source": [
    "FREQUENCY_ENCODING.remove('issue')"
   ]
  },
  {
   "cell_type": "code",
   "execution_count": null,
   "id": "8f0257d7",
   "metadata": {},
   "outputs": [
    {
     "data": {
      "text/plain": [
       "['company', 'state', 'zip_code', 'issue']"
      ]
     },
     "execution_count": 255,
     "metadata": {},
     "output_type": "execute_result"
    }
   ],
   "source": [
    "FREQUENCY_ENCODING"
   ]
  },
  {
   "cell_type": "code",
   "execution_count": null,
   "id": "64314281",
   "metadata": {},
   "outputs": [
    {
     "data": {
      "text/plain": [
       "['company_response', 'consumer_consent_provided', 'submitted_via', 'timely']"
      ]
     },
     "execution_count": 256,
     "metadata": {},
     "output_type": "execute_result"
    }
   ],
   "source": [
    "ONE_HOT_FEATURE"
   ]
  },
  {
   "cell_type": "code",
   "execution_count": null,
   "id": "f8bdc889",
   "metadata": {},
   "outputs": [],
   "source": [
    "\n",
    "data_file_path=\"/home/jovyan/work/finance_complaint/finance_artifact/data_preprocessing/20220907_063829/complaint_data\""
   ]
  },
  {
   "cell_type": "code",
   "execution_count": null,
   "id": "0a2e7928",
   "metadata": {},
   "outputs": [
    {
     "ename": "RuntimeError",
     "evalue": "Java gateway process exited before sending its port number",
     "output_type": "error",
     "traceback": [
      "\u001b[1;31m---------------------------------------------------------------------------\u001b[0m",
      "\u001b[1;31mRuntimeError\u001b[0m                              Traceback (most recent call last)",
      "\u001b[1;32m~\\AppData\\Local\\Temp\\ipykernel_14152\\4120289990.py\u001b[0m in \u001b[0;36m<module>\u001b[1;34m\u001b[0m\n\u001b[1;32m----> 1\u001b[1;33m \u001b[1;32mfrom\u001b[0m \u001b[0mfinance_complaint\u001b[0m\u001b[1;33m.\u001b[0m\u001b[0mentity\u001b[0m\u001b[1;33m.\u001b[0m\u001b[0mspark_manager\u001b[0m \u001b[1;32mimport\u001b[0m \u001b[0mspark_session\u001b[0m\u001b[1;33m\u001b[0m\u001b[0m\n\u001b[0m\u001b[0;32m      2\u001b[0m \u001b[0mdf\u001b[0m \u001b[1;33m=\u001b[0m \u001b[0mspark_session\u001b[0m\u001b[1;33m.\u001b[0m\u001b[0mread\u001b[0m\u001b[1;33m.\u001b[0m\u001b[0mparquet\u001b[0m\u001b[1;33m(\u001b[0m\u001b[0mdata_file_path\u001b[0m\u001b[1;33m)\u001b[0m\u001b[1;33m\u001b[0m\u001b[0m\n",
      "\u001b[1;32me:\\official\\finance_complaint\\finance_complaint\\entity\\spark_manager.py\u001b[0m in \u001b[0;36m<module>\u001b[1;34m\u001b[0m\n\u001b[0;32m      7\u001b[0m     \u001b[1;33m.\u001b[0m\u001b[0mconfig\u001b[0m\u001b[1;33m(\u001b[0m\u001b[1;34m\"spark.executor.memory\"\u001b[0m\u001b[1;33m,\u001b[0m \u001b[1;34m\"6g\"\u001b[0m\u001b[1;33m)\u001b[0m\u001b[0;31m \u001b[0m\u001b[0;31m\\\u001b[0m\u001b[1;33m\u001b[0m\u001b[0m\n\u001b[0;32m      8\u001b[0m     \u001b[1;33m.\u001b[0m\u001b[0mconfig\u001b[0m\u001b[1;33m(\u001b[0m\u001b[1;34m\"spark.driver.memory\"\u001b[0m\u001b[1;33m,\u001b[0m \u001b[1;34m\"6g\"\u001b[0m\u001b[1;33m)\u001b[0m\u001b[0;31m \u001b[0m\u001b[0;31m\\\u001b[0m\u001b[1;33m\u001b[0m\u001b[0m\n\u001b[1;32m----> 9\u001b[1;33m     \u001b[1;33m.\u001b[0m\u001b[0mconfig\u001b[0m\u001b[1;33m(\u001b[0m\u001b[1;34m\"spark.executor.memoryOverhead\"\u001b[0m\u001b[1;33m,\u001b[0m \u001b[1;34m\"8g\"\u001b[0m\u001b[1;33m)\u001b[0m\u001b[0;31m \u001b[0m\u001b[0;31m\\\u001b[0m\u001b[1;33m\u001b[0m\u001b[0m\n\u001b[0m\u001b[0;32m     10\u001b[0m     \u001b[1;33m.\u001b[0m\u001b[0mgetOrCreate\u001b[0m\u001b[1;33m(\u001b[0m\u001b[1;33m)\u001b[0m\u001b[1;33m\u001b[0m\u001b[0m\n\u001b[0;32m     11\u001b[0m \u001b[1;33m\u001b[0m\u001b[0m\n",
      "\u001b[1;32me:\\official\\venv\\lib\\site-packages\\pyspark\\sql\\session.py\u001b[0m in \u001b[0;36mgetOrCreate\u001b[1;34m(self)\u001b[0m\n\u001b[0;32m    226\u001b[0m                             \u001b[0msparkConf\u001b[0m\u001b[1;33m.\u001b[0m\u001b[0mset\u001b[0m\u001b[1;33m(\u001b[0m\u001b[0mkey\u001b[0m\u001b[1;33m,\u001b[0m \u001b[0mvalue\u001b[0m\u001b[1;33m)\u001b[0m\u001b[1;33m\u001b[0m\u001b[0m\n\u001b[0;32m    227\u001b[0m                         \u001b[1;31m# This SparkContext may be an existing one.\u001b[0m\u001b[1;33m\u001b[0m\u001b[1;33m\u001b[0m\u001b[0m\n\u001b[1;32m--> 228\u001b[1;33m                         \u001b[0msc\u001b[0m \u001b[1;33m=\u001b[0m \u001b[0mSparkContext\u001b[0m\u001b[1;33m.\u001b[0m\u001b[0mgetOrCreate\u001b[0m\u001b[1;33m(\u001b[0m\u001b[0msparkConf\u001b[0m\u001b[1;33m)\u001b[0m\u001b[1;33m\u001b[0m\u001b[0m\n\u001b[0m\u001b[0;32m    229\u001b[0m                     \u001b[1;31m# Do not update `SparkConf` for existing `SparkContext`, as it's shared\u001b[0m\u001b[1;33m\u001b[0m\u001b[1;33m\u001b[0m\u001b[0m\n\u001b[0;32m    230\u001b[0m                     \u001b[1;31m# by all sessions.\u001b[0m\u001b[1;33m\u001b[0m\u001b[1;33m\u001b[0m\u001b[0m\n",
      "\u001b[1;32me:\\official\\venv\\lib\\site-packages\\pyspark\\context.py\u001b[0m in \u001b[0;36mgetOrCreate\u001b[1;34m(cls, conf)\u001b[0m\n\u001b[0;32m    390\u001b[0m         \u001b[1;32mwith\u001b[0m \u001b[0mSparkContext\u001b[0m\u001b[1;33m.\u001b[0m\u001b[0m_lock\u001b[0m\u001b[1;33m:\u001b[0m\u001b[1;33m\u001b[0m\u001b[0m\n\u001b[0;32m    391\u001b[0m             \u001b[1;32mif\u001b[0m \u001b[0mSparkContext\u001b[0m\u001b[1;33m.\u001b[0m\u001b[0m_active_spark_context\u001b[0m \u001b[1;32mis\u001b[0m \u001b[1;32mNone\u001b[0m\u001b[1;33m:\u001b[0m\u001b[1;33m\u001b[0m\u001b[0m\n\u001b[1;32m--> 392\u001b[1;33m                 \u001b[0mSparkContext\u001b[0m\u001b[1;33m(\u001b[0m\u001b[0mconf\u001b[0m\u001b[1;33m=\u001b[0m\u001b[0mconf\u001b[0m \u001b[1;32mor\u001b[0m \u001b[0mSparkConf\u001b[0m\u001b[1;33m(\u001b[0m\u001b[1;33m)\u001b[0m\u001b[1;33m)\u001b[0m\u001b[1;33m\u001b[0m\u001b[0m\n\u001b[0m\u001b[0;32m    393\u001b[0m             \u001b[1;32mreturn\u001b[0m \u001b[0mSparkContext\u001b[0m\u001b[1;33m.\u001b[0m\u001b[0m_active_spark_context\u001b[0m\u001b[1;33m\u001b[0m\u001b[0m\n\u001b[0;32m    394\u001b[0m \u001b[1;33m\u001b[0m\u001b[0m\n",
      "\u001b[1;32me:\\official\\venv\\lib\\site-packages\\pyspark\\context.py\u001b[0m in \u001b[0;36m__init__\u001b[1;34m(self, master, appName, sparkHome, pyFiles, environment, batchSize, serializer, conf, gateway, jsc, profiler_cls)\u001b[0m\n\u001b[0;32m    142\u001b[0m                 \" is not allowed as it is a security risk.\")\n\u001b[0;32m    143\u001b[0m \u001b[1;33m\u001b[0m\u001b[0m\n\u001b[1;32m--> 144\u001b[1;33m         \u001b[0mSparkContext\u001b[0m\u001b[1;33m.\u001b[0m\u001b[0m_ensure_initialized\u001b[0m\u001b[1;33m(\u001b[0m\u001b[0mself\u001b[0m\u001b[1;33m,\u001b[0m \u001b[0mgateway\u001b[0m\u001b[1;33m=\u001b[0m\u001b[0mgateway\u001b[0m\u001b[1;33m,\u001b[0m \u001b[0mconf\u001b[0m\u001b[1;33m=\u001b[0m\u001b[0mconf\u001b[0m\u001b[1;33m)\u001b[0m\u001b[1;33m\u001b[0m\u001b[0m\n\u001b[0m\u001b[0;32m    145\u001b[0m         \u001b[1;32mtry\u001b[0m\u001b[1;33m:\u001b[0m\u001b[1;33m\u001b[0m\u001b[0m\n\u001b[0;32m    146\u001b[0m             self._do_init(master, appName, sparkHome, pyFiles, environment, batchSize, serializer,\n",
      "\u001b[1;32me:\\official\\venv\\lib\\site-packages\\pyspark\\context.py\u001b[0m in \u001b[0;36m_ensure_initialized\u001b[1;34m(cls, instance, gateway, conf)\u001b[0m\n\u001b[0;32m    337\u001b[0m         \u001b[1;32mwith\u001b[0m \u001b[0mSparkContext\u001b[0m\u001b[1;33m.\u001b[0m\u001b[0m_lock\u001b[0m\u001b[1;33m:\u001b[0m\u001b[1;33m\u001b[0m\u001b[0m\n\u001b[0;32m    338\u001b[0m             \u001b[1;32mif\u001b[0m \u001b[1;32mnot\u001b[0m \u001b[0mSparkContext\u001b[0m\u001b[1;33m.\u001b[0m\u001b[0m_gateway\u001b[0m\u001b[1;33m:\u001b[0m\u001b[1;33m\u001b[0m\u001b[0m\n\u001b[1;32m--> 339\u001b[1;33m                 \u001b[0mSparkContext\u001b[0m\u001b[1;33m.\u001b[0m\u001b[0m_gateway\u001b[0m \u001b[1;33m=\u001b[0m \u001b[0mgateway\u001b[0m \u001b[1;32mor\u001b[0m \u001b[0mlaunch_gateway\u001b[0m\u001b[1;33m(\u001b[0m\u001b[0mconf\u001b[0m\u001b[1;33m)\u001b[0m\u001b[1;33m\u001b[0m\u001b[0m\n\u001b[0m\u001b[0;32m    340\u001b[0m                 \u001b[0mSparkContext\u001b[0m\u001b[1;33m.\u001b[0m\u001b[0m_jvm\u001b[0m \u001b[1;33m=\u001b[0m \u001b[0mSparkContext\u001b[0m\u001b[1;33m.\u001b[0m\u001b[0m_gateway\u001b[0m\u001b[1;33m.\u001b[0m\u001b[0mjvm\u001b[0m\u001b[1;33m\u001b[0m\u001b[0m\n\u001b[0;32m    341\u001b[0m \u001b[1;33m\u001b[0m\u001b[0m\n",
      "\u001b[1;32me:\\official\\venv\\lib\\site-packages\\pyspark\\java_gateway.py\u001b[0m in \u001b[0;36mlaunch_gateway\u001b[1;34m(conf, popen_kwargs)\u001b[0m\n\u001b[0;32m    106\u001b[0m \u001b[1;33m\u001b[0m\u001b[0m\n\u001b[0;32m    107\u001b[0m             \u001b[1;32mif\u001b[0m \u001b[1;32mnot\u001b[0m \u001b[0mos\u001b[0m\u001b[1;33m.\u001b[0m\u001b[0mpath\u001b[0m\u001b[1;33m.\u001b[0m\u001b[0misfile\u001b[0m\u001b[1;33m(\u001b[0m\u001b[0mconn_info_file\u001b[0m\u001b[1;33m)\u001b[0m\u001b[1;33m:\u001b[0m\u001b[1;33m\u001b[0m\u001b[0m\n\u001b[1;32m--> 108\u001b[1;33m                 \u001b[1;32mraise\u001b[0m \u001b[0mRuntimeError\u001b[0m\u001b[1;33m(\u001b[0m\u001b[1;34m\"Java gateway process exited before sending its port number\"\u001b[0m\u001b[1;33m)\u001b[0m\u001b[1;33m\u001b[0m\u001b[0m\n\u001b[0m\u001b[0;32m    109\u001b[0m \u001b[1;33m\u001b[0m\u001b[0m\n\u001b[0;32m    110\u001b[0m             \u001b[1;32mwith\u001b[0m \u001b[0mopen\u001b[0m\u001b[1;33m(\u001b[0m\u001b[0mconn_info_file\u001b[0m\u001b[1;33m,\u001b[0m \u001b[1;34m\"rb\"\u001b[0m\u001b[1;33m)\u001b[0m \u001b[1;32mas\u001b[0m \u001b[0minfo\u001b[0m\u001b[1;33m:\u001b[0m\u001b[1;33m\u001b[0m\u001b[0m\n",
      "\u001b[1;31mRuntimeError\u001b[0m: Java gateway process exited before sending its port number"
     ]
    }
   ],
   "source": [
    "from finance_complaint.entity.spark_manager import spark_session\n",
    "df = spark_session.read.parquet(data_file_path)"
   ]
  },
  {
   "cell_type": "code",
   "execution_count": null,
   "id": "b48b89e8",
   "metadata": {},
   "outputs": [],
   "source": []
  }
 ],
 "metadata": {
  "kernelspec": {
   "display_name": "Python 3.8.10 64-bit",
   "language": "python",
   "name": "python3"
  },
  "language_info": {
   "codemirror_mode": {
    "name": "ipython",
    "version": 3
   },
   "file_extension": ".py",
   "mimetype": "text/x-python",
   "name": "python",
   "nbconvert_exporter": "python",
   "pygments_lexer": "ipython3",
   "version": "3.8.10"
  },
  "vscode": {
   "interpreter": {
    "hash": "e7370f93d1d0cde622a1f8e1c04877d8463912d04d973331ad4851f04de6915a"
   }
  }
 },
 "nbformat": 4,
 "nbformat_minor": 5
}
